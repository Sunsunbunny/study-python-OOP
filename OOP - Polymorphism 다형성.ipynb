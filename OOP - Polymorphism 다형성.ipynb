{
 "cells": [
  {
   "cell_type": "markdown",
   "id": "4bbd39cc",
   "metadata": {},
   "source": [
    "## OOP - Polymorphism 다형성\n",
    "\n",
    "같은 모양의 코드가 다른 동작을 하는 것을 의미하며 코드의 양을 줄이고 여러 객체 타입을 하나의 타입으로 관리가 가능하기에 유지보수에 좋음\n",
    "\n",
    "예시: 수퍼클래스의 push메서드가 키보드를 누른다고 가정했을 때, 동일한 push를 가진 서브클래스 메서드가 존재하며 각 메서드는 ENTER, ESC, A,B ...등을 특정 행위를 도맡아 함 (Method Overriding)"
   ]
  },
  {
   "cell_type": "markdown",
   "id": "38c973ff",
   "metadata": {},
   "source": [
    "Ex 1: Polymorphism in addition operator\n",
    "\n",
    "This operator does not have a single usage but perform aritmetic addition for several objects"
   ]
  },
  {
   "cell_type": "code",
   "execution_count": 1,
   "id": "b5c03375",
   "metadata": {},
   "outputs": [
    {
     "name": "stdout",
     "output_type": "stream",
     "text": [
      "3\n"
     ]
    }
   ],
   "source": [
    "num1 = 1\n",
    "num2 = 2\n",
    "print(num1+num2)"
   ]
  },
  {
   "cell_type": "markdown",
   "id": "2424898d",
   "metadata": {},
   "source": [
    "Ex 2: Funciton Polymorphism\n",
    "\n",
    "여러 데이터타입에 사용가능한(eg. str, tuple, set, ..) 함수의 결과값이 특정 데이터타입으로 결과값을 도출할 때 (eg. `len`, `print`, etc)"
   ]
  },
  {
   "cell_type": "code",
   "execution_count": 5,
   "id": "84cc1e30",
   "metadata": {},
   "outputs": [
    {
     "name": "stdout",
     "output_type": "stream",
     "text": [
      "6 1 2\n"
     ]
    }
   ],
   "source": [
    "print(len('Python'),len(['Python']), len({'Python':'High Lv','C+':'Low Lv'}))"
   ]
  },
  {
   "cell_type": "markdown",
   "id": "4619acdc",
   "metadata": {},
   "source": [
    "Ex 3: Class Polymorphism"
   ]
  },
  {
   "cell_type": "code",
   "execution_count": 13,
   "id": "08000f96",
   "metadata": {},
   "outputs": [],
   "source": [
    "class Mammal:\n",
    "    def __init__(self, name):\n",
    "        self.name = name\n",
    "        \n",
    "    def speak(self):\n",
    "        print(f\"Animal identifier\")\n",
    "    \n",
    "    def __str__(self):\n",
    "        return self.name +' ~'\n",
    "        \n",
    "        \n",
    "class Dog(Mammal):\n",
    "    def __init__(self, name):\n",
    "        super().__init__(name)\n",
    "        \n",
    "    def speak(self):\n",
    "        print(f\"왈왈! I am a dog and my name is {self.name}\")\n",
    "        \n",
    "        \n",
    "class Cat(Mammal):\n",
    "    def __init__(self, name):\n",
    "        super().__init__(name)\n",
    "        \n",
    "    def speak(self):\n",
    "        print(f\"야옹~ I am a cat and my name is {self.name}\")"
   ]
  },
  {
   "cell_type": "code",
   "execution_count": 14,
   "id": "55cdab5d",
   "metadata": {},
   "outputs": [],
   "source": [
    "tim = Dog('Tim')\n",
    "lily = Cat('Lily')"
   ]
  },
  {
   "cell_type": "code",
   "execution_count": 15,
   "id": "eb4dbdec",
   "metadata": {},
   "outputs": [
    {
     "name": "stdout",
     "output_type": "stream",
     "text": [
      "왈왈! I am a dog and my name is Tim\n",
      "Tim ~\n"
     ]
    }
   ],
   "source": [
    "tim.speak()\n",
    "\n",
    "print(tim)"
   ]
  },
  {
   "cell_type": "code",
   "execution_count": 16,
   "id": "a1438c18",
   "metadata": {},
   "outputs": [
    {
     "name": "stdout",
     "output_type": "stream",
     "text": [
      "야옹~ I am a cat and my name is Lily\n",
      "Lily ~\n"
     ]
    }
   ],
   "source": [
    "lily.speak()\n",
    "\n",
    "print(lily)"
   ]
  },
  {
   "cell_type": "code",
   "execution_count": 4,
   "id": "b3d807b3",
   "metadata": {},
   "outputs": [
    {
     "name": "stdout",
     "output_type": "stream",
     "text": [
      "Animal identifier\n"
     ]
    }
   ],
   "source": [
    "Mammal.speak(' ')"
   ]
  },
  {
   "cell_type": "code",
   "execution_count": null,
   "id": "99213b6c",
   "metadata": {},
   "outputs": [],
   "source": []
  }
 ],
 "metadata": {
  "kernelspec": {
   "display_name": "Python 3 (ipykernel)",
   "language": "python",
   "name": "python3"
  },
  "language_info": {
   "codemirror_mode": {
    "name": "ipython",
    "version": 3
   },
   "file_extension": ".py",
   "mimetype": "text/x-python",
   "name": "python",
   "nbconvert_exporter": "python",
   "pygments_lexer": "ipython3",
   "version": "3.9.7"
  }
 },
 "nbformat": 4,
 "nbformat_minor": 5
}
