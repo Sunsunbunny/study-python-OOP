{
 "cells": [
  {
   "cell_type": "markdown",
   "id": "f3a3ff55",
   "metadata": {},
   "source": [
    "## OOP - 데코레이터\n",
    "\n",
    "함수/메서드를 장식하는데서 유래한다. 데코레이터는 기존 함수를 수정하지 않은 상태에서 추가 기능을 구현할 때 사용된다. \n",
    "\n",
    "\n",
    "    def 데코레이터(): \n",
    "        코드\n",
    "    def 데코레이티드():\n",
    "        코드\n",
    "    \n",
    "    obj = 데코레이터(데코레이티드)\n",
    "    obj()"
   ]
  },
  {
   "cell_type": "code",
   "execution_count": 6,
   "id": "83bffa7c",
   "metadata": {},
   "outputs": [
    {
     "name": "stdout",
     "output_type": "stream",
     "text": [
      "hello 함수 시작\n",
      "hello\n",
      "hello 함수 끝\n",
      "총 소요시간 0.0006899833679199219\n",
      "world 함수 시작\n",
      "world\n",
      "world 함수 끝\n",
      "총 소요시간 7.295608520507812e-05\n"
     ]
    }
   ],
   "source": [
    "# function_begin_end.py\n",
    "\n",
    "import time\n",
    "\n",
    "def hello():\n",
    "    start = time.time()\n",
    "    print('hello 함수 시작')\n",
    "    print('hello')\n",
    "    print('hello 함수 끝')\n",
    "    end = time.time()\n",
    "    print(f'총 소요시간 {end - start}')\n",
    "\n",
    "def world():\n",
    "    start = time.time()\n",
    "    print('world 함수 시작')\n",
    "    print('world')\n",
    "    print('world 함수 끝')\n",
    "    end = time.time()\n",
    "    print(f'총 소요시간 {end - start}')\n",
    "    \n",
    "hello()\n",
    "world()"
   ]
  },
  {
   "cell_type": "markdown",
   "id": "abc30615",
   "metadata": {},
   "source": [
    "위의 예시는 함수의 시작과 끝과 함수 출력하는데 걸리는 시간을 출력한다. 만약 한개가 아닌 여러개의 함수의 처음과 끝을 출력하고 싶다면 매번 print함수를 일일히 써야한다. 이는 함수가 많으면 많을수록 번거로울 수 있다.\n",
    "\n",
    "**이럴 때 데코레이터를 쓰면 편리하다**"
   ]
  },
  {
   "cell_type": "code",
   "execution_count": 4,
   "id": "2343391d",
   "metadata": {},
   "outputs": [
    {
     "name": "stdout",
     "output_type": "stream",
     "text": [
      "hello  함수 시작\n",
      "hello\n",
      "hello  함수 끝\n",
      "hello 출력 총 소요시간 0.0004031658172607422 \n",
      "world  함수 시작\n",
      "world\n",
      "world  함수 끝\n",
      "world 출력 총 소요시간 0.00011491775512695312 \n"
     ]
    }
   ],
   "source": [
    "import time\n",
    "\n",
    "def trace(func):   \n",
    "    \n",
    "    ## trace는 추적한다라는 뜻으로 프로그래밍에서 함수의 실행상황을 추적할 때 쓰인다\n",
    "    ## 함수를 매개변수로 받는다\n",
    "    \n",
    "    def wrapper():\n",
    "        ## wrapper는 물건을 싸는 포장지라는 뜻이다 \n",
    "        ## 여기서는 함수를 감싸는 의미로 쓰인다\n",
    "        start = time.time()\n",
    "        print(func.__name__, \" 함수 시작\")\n",
    "        func()\n",
    "        \n",
    "        print(func.__name__, \" 함수 끝\")\n",
    "        end = time.time()\n",
    "        print(f\"{func.__name__} 출력 총 소요시간 {end - start} \")\n",
    "        \n",
    "    return wrapper \n",
    "\n",
    "\n",
    "def hello():\n",
    "    print('hello')\n",
    "    \n",
    "def world():\n",
    "    print('world')\n",
    "    \n",
    "trace_hello = trace(hello)\n",
    "trace_hello()\n",
    "\n",
    "trace_world = trace(world)\n",
    "trace_world()"
   ]
  },
  {
   "cell_type": "markdown",
   "id": "03a2cba5",
   "metadata": {},
   "source": [
    "바깥함수(trace) 안에 안쪽 함수(wrapper)가 구현되어있으며 바깥 함수는 안쪽 함수 wrapper를 리턴한다. 이런 코드를 **클로저(Closure)**라고 한다. 이러한 방법으로 더 우아한 코드를 작성할 수 있는 장점이 있다\n",
    "\n",
    "하지만 매번 trace에 다른 함수를 넣어 반환하기보다 더 간편한 방법이 존재한다\n",
    "\n",
    "### @의 사용\n",
    "\n",
    "\n",
    "    @데코레이터\n",
    "    def 함수이름():\n",
    "        코드"
   ]
  },
  {
   "cell_type": "code",
   "execution_count": 16,
   "id": "f5d58811",
   "metadata": {},
   "outputs": [],
   "source": [
    "import time\n",
    "\n",
    "def trace(func):   \n",
    "    \n",
    "    def wrapper():\n",
    "        \n",
    "        start = time.time()\n",
    "        print(func.__name__, \" 함수 시작\")\n",
    "\n",
    "        func()\n",
    "        \n",
    "        print(func.__name__, \" 함수 끝\")\n",
    "        end = time.time()\n",
    "        \n",
    "        print(f\"{func.__name__} 출력 총 소요시간 {end - start} \")\n",
    "        \n",
    "    return wrapper \n",
    "\n",
    "@trace\n",
    "def helloworld():\n",
    "    print('hello world')"
   ]
  },
  {
   "cell_type": "code",
   "execution_count": 17,
   "id": "8e026a8b",
   "metadata": {},
   "outputs": [
    {
     "name": "stdout",
     "output_type": "stream",
     "text": [
      "wrapper  함수 시작\n",
      "helloworld  함수 시작\n",
      "hello world\n",
      "helloworld  함수 끝\n",
      "helloworld 출력 총 소요시간 0.0001270771026611328 \n",
      "wrapper  함수 끝\n",
      "wrapper 출력 총 소요시간 0.0003120899200439453 \n"
     ]
    }
   ],
   "source": [
    "trace_helloworld = trace(helloworld)\n",
    "trace_helloworld()"
   ]
  },
  {
   "cell_type": "markdown",
   "id": "35144db4",
   "metadata": {},
   "source": [
    "`trace(helloword)`로 감싸기 보다 helloworld 함수를 그대로 호출하면 된다"
   ]
  },
  {
   "cell_type": "code",
   "execution_count": 18,
   "id": "98cc9e59",
   "metadata": {},
   "outputs": [
    {
     "name": "stdout",
     "output_type": "stream",
     "text": [
      "helloworld  함수 시작\n",
      "hello world\n",
      "helloworld  함수 끝\n",
      "helloworld 출력 총 소요시간 0.00021600723266601562 \n"
     ]
    }
   ],
   "source": [
    "helloworld()"
   ]
  },
  {
   "cell_type": "markdown",
   "id": "0d2f12f4",
   "metadata": {},
   "source": [
    "#### 데코레이터를 여러개 지정하는것도 가능하다"
   ]
  },
  {
   "cell_type": "code",
   "execution_count": 21,
   "id": "ebb5d315",
   "metadata": {},
   "outputs": [],
   "source": [
    "def decorator1(func):\n",
    "    \n",
    "    def wrapper():\n",
    "        print('decorator1')\n",
    "        func()\n",
    "        \n",
    "    return wrapper\n",
    "\n",
    "\n",
    "\n",
    "def decorator2(func):\n",
    "    \n",
    "    def wrapper():\n",
    "        print('decorator2')\n",
    "        func()\n",
    "        \n",
    "    return wrapper\n",
    "\n",
    "\n",
    "@decorator1\n",
    "@decorator2\n",
    "def helloworld():\n",
    "    print('hello')"
   ]
  },
  {
   "cell_type": "code",
   "execution_count": 22,
   "id": "6bf0dd8d",
   "metadata": {},
   "outputs": [
    {
     "name": "stdout",
     "output_type": "stream",
     "text": [
      "decorator1\n",
      "decorator2\n",
      "hello\n"
     ]
    }
   ],
   "source": [
    "helloworld()"
   ]
  },
  {
   "cell_type": "markdown",
   "id": "b12b5deb",
   "metadata": {},
   "source": [
    "@를 사용하지 않았을때 다음 코드와 동작이 같다"
   ]
  },
  {
   "cell_type": "code",
   "execution_count": 28,
   "id": "badfe16d",
   "metadata": {},
   "outputs": [],
   "source": [
    "obj = decorator1(decorator2(helloworld))"
   ]
  },
  {
   "cell_type": "code",
   "execution_count": 30,
   "id": "303f6896",
   "metadata": {},
   "outputs": [
    {
     "name": "stdout",
     "output_type": "stream",
     "text": [
      "decorator1\n",
      "decorator2\n",
      "decorator1\n",
      "decorator2\n",
      "hello\n"
     ]
    }
   ],
   "source": [
    "obj()"
   ]
  },
  {
   "cell_type": "markdown",
   "id": "83687240",
   "metadata": {},
   "source": [
    "#### 데코레이터의 작동원리는 다음과 같다. \n",
    "\n",
    "파이썬 인터프리터가 Top-to-Bottom 형식으로 `@decorator1` `@decorator2`로 내려가 decorator2를 기점으로 mapping을 시작한다.\n",
    "\n",
    "그 후에 데코레이티드 메서드 helloworld 함수를 call 하면 Top-to-Bottom 형식으로  `@decorator1` 의 클로저의 접근을 시작으로 1의 클로저의 func에 도달. 그 후 가장 안쪽 함수로 (`@decorator2`)로 넘어가 그 클로저의 func()을 실행을 한다"
   ]
  },
  {
   "cell_type": "markdown",
   "id": "3baf1d54",
   "metadata": {},
   "source": [
    "### 다음은 반환값이 (return) 있는 데코레이터를 만들어보자\n",
    "\n",
    "https://dojang.io/mod/page/view.php?id=2428"
   ]
  },
  {
   "cell_type": "code",
   "execution_count": 31,
   "id": "c1e52c50",
   "metadata": {},
   "outputs": [
    {
     "name": "stdout",
     "output_type": "stream",
     "text": [
      "계산 값: 30\n",
      "계산하는데 걸린 시간: 0.00042128562927246094\n"
     ]
    },
    {
     "data": {
      "text/plain": [
       "30"
      ]
     },
     "execution_count": 31,
     "metadata": {},
     "output_type": "execute_result"
    }
   ],
   "source": [
    "import time\n",
    "\n",
    "def trace(func):\n",
    "    ## 호출할 함수를 매개변수로 받음\n",
    "    \n",
    "    def wrapper(num1, num2):\n",
    "        ## do_add의 a와 b를 받음\n",
    "        \n",
    "        start = time.time()\n",
    "        \n",
    "        result = func(num1, num2)\n",
    "        print(f\"계산 값: {result}\")\n",
    "        end = time.time()\n",
    "        \n",
    "        print(f\"계산하는데 걸린 시간: {end - start}\")\n",
    "        return result\n",
    "        \n",
    "    return wrapper\n",
    "\n",
    "@trace\n",
    "def do_add(a,b):\n",
    "    return a+b\n",
    "\n",
    "do_add(10,20)"
   ]
  },
  {
   "cell_type": "markdown",
   "id": "b394d9f4",
   "metadata": {},
   "source": [
    "`*args` `**kwargs`를 써서 매개변수가 고정되지 않게 만들 수도 있다"
   ]
  },
  {
   "cell_type": "code",
   "execution_count": 53,
   "id": "578cafa1",
   "metadata": {},
   "outputs": [],
   "source": [
    "import time\n",
    "\n",
    "def trace(func):\n",
    "    \n",
    "    def wrapper(*args, **kwargs): \n",
    "        ## 가변 매개변수\n",
    "        ## args:튜플 / kwargs:딕셔너리\n",
    "        \n",
    "        print(\"args: \", args)   \n",
    "        print(\"*args: \", *args) \n",
    "        ## asterisk 해줬을 시 각각의 inner element는 고유하기에 \n",
    "        ## 1 2 3 4 총 4개의 값이 순차적으로 들어간다\n",
    "        \n",
    "        print(\"kwargs: \", kwargs)   \n",
    "        print(\"*kwargs: \", *kwargs) \n",
    "        print()\n",
    "        \n",
    "        start = time.time()\n",
    "        \n",
    "        ## 중요!\n",
    "        ## 하나씩 넣어줘야 하기에 각각 가변인자를 반드시 unpacking 해줘야함\n",
    "        result = func(*args, **kwargs) \n",
    "    \n",
    "        print(f\"계산 값: {result}\")\n",
    "        end = time.time()\n",
    "        \n",
    "        print(f\"계산하는데 걸린 시간: {end - start}\")\n",
    "        return result\n",
    "        \n",
    "    return wrapper\n",
    "\n",
    "@trace\n",
    "def get_max(*args):\n",
    "    return max(args)\n",
    "\n",
    "@trace\n",
    "def get_min(**kwargs):\n",
    "    return min(kwargs.values())"
   ]
  },
  {
   "cell_type": "code",
   "execution_count": 54,
   "id": "39863821",
   "metadata": {},
   "outputs": [
    {
     "name": "stdout",
     "output_type": "stream",
     "text": [
      "args:  (1, 2, 3, 4)\n",
      "*args:  1 2 3 4\n",
      "kwargs:  {}\n",
      "*kwargs: \n",
      "\n",
      "계산 값: 4\n",
      "계산하는데 걸린 시간: 3.218650817871094e-05\n"
     ]
    },
    {
     "data": {
      "text/plain": [
       "4"
      ]
     },
     "execution_count": 54,
     "metadata": {},
     "output_type": "execute_result"
    }
   ],
   "source": [
    "get_max(1,2,3,4)"
   ]
  },
  {
   "cell_type": "code",
   "execution_count": 57,
   "id": "e6e3db23",
   "metadata": {},
   "outputs": [
    {
     "name": "stdout",
     "output_type": "stream",
     "text": [
      "args:  ()\n",
      "*args: \n",
      "kwargs:  {'x': 10, 'y': 20, 'z': 30}\n",
      "*kwargs:  x y z\n",
      "\n",
      "계산 값: 10\n",
      "계산하는데 걸린 시간: 3.1948089599609375e-05\n"
     ]
    },
    {
     "data": {
      "text/plain": [
       "10"
      ]
     },
     "execution_count": 57,
     "metadata": {},
     "output_type": "execute_result"
    }
   ],
   "source": [
    "get_min(x=10, y=20, z=30) ## get_min(**{'x':10,'y':20,'z':30})와 같다"
   ]
  },
  {
   "cell_type": "markdown",
   "id": "bfad67ad",
   "metadata": {},
   "source": [
    "### 클래스 내에 있는 메서드에 데코레이터 사용하기\n",
    "\n",
    "클래스내의 메서드를 decorated 해줄때는 `self`를 주의해야 한다. 데코레이터 wrapper 함수의 첫번째 매개변수는 다음과 같다\n",
    "\n",
    "1. 일반 wrapper메서드라면 `self`\n",
    "\n",
    "2. 클래스메서드 (classmethod)라면 `cls`\n",
    "\n",
    "마지막으로 func()의 첫번째 매개변수도 self로 지정해줘야함을 잊지말자"
   ]
  },
  {
   "cell_type": "code",
   "execution_count": 145,
   "id": "994698dd",
   "metadata": {
    "scrolled": true
   },
   "outputs": [
    {
     "name": "stdout",
     "output_type": "stream",
     "text": [
      "계산 값: 30\n",
      "계산하는데 걸린 시간: 0.0003120899200439453\n",
      "30\n"
     ]
    }
   ],
   "source": [
    "def trace(func):\n",
    "    \n",
    "    def wrapper(self, num1, num2):\n",
    "        \n",
    "        start = time.time()\n",
    "        \n",
    "        result = func(self, num1, num2)\n",
    "        print(f\"계산 값: {result}\")\n",
    "        end = time.time()\n",
    "        \n",
    "        print(f\"계산하는데 걸린 시간: {end - start}\")\n",
    "        return result\n",
    "        \n",
    "    return wrapper\n",
    "\n",
    "\n",
    "class Calc:\n",
    "    \n",
    "    @trace\n",
    "    def do_add(self, a, b):\n",
    "        return a+b\n",
    "        \n",
    "calc = Calc()\n",
    "print(calc.do_add(10, 20))"
   ]
  },
  {
   "cell_type": "markdown",
   "id": "ce3ca6fe",
   "metadata": {},
   "source": [
    "기존에는 인수가 없는 데코레이터를 예시를 봤다. 다음은 인수가 있는 데코레이터를 만들어보자"
   ]
  },
  {
   "cell_type": "markdown",
   "id": "a808f9bc",
   "metadata": {},
   "source": [
    "### 인수를 보내는 데코레이터\n",
    "\n",
    "https://dojang.io/mod/page/view.php?id=2429\n",
    "\n",
    "인수를 보내는 데코레이터의 특징은 **값을 지정해서 동작을 바꿀 수 있다**. \n",
    "\n",
    "    @데코레이터(인수)\n",
    "    def 함수이름():\n",
    "        코드\n",
    "\n",
    "아래 예시는 함수의 반환값이 2의 배수 (mod 2 == 0)인지 확인하는 데코레이터"
   ]
  },
  {
   "cell_type": "code",
   "execution_count": 64,
   "id": "34777832",
   "metadata": {},
   "outputs": [],
   "source": [
    "def mod_num(x):\n",
    "    ## 데코레이터가 사용할 매개변수 지정\n",
    "    ## x는 2를 받음\n",
    "    \n",
    "    def real_decorator(func):\n",
    "    ## 실제 데코레이터 역할 메서드\n",
    "    ## func는 do_add 함수를 받음\n",
    "    \n",
    "        def wrapper(num1, num2):\n",
    "            result = func(num1, num2)\n",
    "            \n",
    "            if result % x == 0:\n",
    "                print(f\"{func.__name__}의 반환값은 {x}의 배수입니다.\")\n",
    "            else:\n",
    "                print(f\"{func.__name__}의 반환값은 {x}의 배수가 아닙니다.\")\n",
    "                \n",
    "            return result\n",
    "\n",
    "        return wrapper\n",
    "    \n",
    "    return real_decorator"
   ]
  },
  {
   "cell_type": "code",
   "execution_count": 65,
   "id": "18c9e2d9",
   "metadata": {},
   "outputs": [],
   "source": [
    "@mod_num(2)\n",
    "def do_add(a, b):\n",
    "    return a+b"
   ]
  },
  {
   "cell_type": "code",
   "execution_count": 61,
   "id": "9d4955bb",
   "metadata": {},
   "outputs": [
    {
     "name": "stdout",
     "output_type": "stream",
     "text": [
      "do_add의 반환값은 2의 배수입니다.\n"
     ]
    },
    {
     "data": {
      "text/plain": [
       "30"
      ]
     },
     "execution_count": 61,
     "metadata": {},
     "output_type": "execute_result"
    }
   ],
   "source": [
    "do_add(10, 20)"
   ]
  },
  {
   "cell_type": "code",
   "execution_count": 62,
   "id": "3a27f55e",
   "metadata": {},
   "outputs": [
    {
     "name": "stdout",
     "output_type": "stream",
     "text": [
      "do_add의 반환값은 2의 배수가 아닙니다.\n"
     ]
    },
    {
     "data": {
      "text/plain": [
       "55"
      ]
     },
     "execution_count": 62,
     "metadata": {},
     "output_type": "execute_result"
    }
   ],
   "source": [
    "do_add(10, 45)"
   ]
  },
  {
   "cell_type": "markdown",
   "id": "06c87bc7",
   "metadata": {},
   "source": [
    "기존 예시와 다르게 `@데코레이터`에 인수를 보내기 위해서는 바깥함수(mod_num)를  한번 더 만들어야 한다. \n",
    "\n",
    "\n",
    "다음과같이 인수를 포함하는 데코레이터를 여러번 지정해줄 수도 있다\n",
    "\n",
    "\n",
    "    @데코레이터1(인수)\n",
    "    @데코레이터2(인수)\n",
    "    def 함수이름():\n",
    "        코드"
   ]
  },
  {
   "cell_type": "code",
   "execution_count": 66,
   "id": "f3b1f707",
   "metadata": {},
   "outputs": [],
   "source": [
    "@mod_num(3)\n",
    "@mod_num(7)\n",
    "def do_add(a, b):\n",
    "    return a+b"
   ]
  },
  {
   "cell_type": "code",
   "execution_count": 67,
   "id": "afc0c4da",
   "metadata": {},
   "outputs": [
    {
     "name": "stdout",
     "output_type": "stream",
     "text": [
      "do_add의 반환값은 7의 배수가 아닙니다.\n",
      "wrapper의 반환값은 3의 배수입니다.\n"
     ]
    },
    {
     "data": {
      "text/plain": [
       "9"
      ]
     },
     "execution_count": 67,
     "metadata": {},
     "output_type": "execute_result"
    }
   ],
   "source": [
    "do_add(3,6)"
   ]
  },
  {
   "cell_type": "markdown",
   "id": "e379d9c1",
   "metadata": {},
   "source": [
    "@을 사용하지 않았을 때 코드는 다음과 같다"
   ]
  },
  {
   "cell_type": "code",
   "execution_count": 70,
   "id": "5f449944",
   "metadata": {},
   "outputs": [
    {
     "name": "stdout",
     "output_type": "stream",
     "text": [
      "do_add의 반환값은 7의 배수가 아닙니다.\n",
      "wrapper의 반환값은 3의 배수입니다.\n",
      "wrapper의 반환값은 7의 배수가 아닙니다.\n",
      "wrapper의 반환값은 3의 배수입니다.\n"
     ]
    },
    {
     "data": {
      "text/plain": [
       "9"
      ]
     },
     "execution_count": 70,
     "metadata": {},
     "output_type": "execute_result"
    }
   ],
   "source": [
    "do_add_deco = mod_num(3)(mod_num(7)(do_add))\n",
    "do_add_deco(3,6)"
   ]
  },
  {
   "cell_type": "markdown",
   "id": "d1eaaa25",
   "metadata": {},
   "source": [
    "그런데 여기서 문제가 생긴다. 데코레이터를 하나를 사용했을 때는 `func.__name__` 이 do_add로 정확하게 출력되지만 여러번 사용했을 시 클로저의 wrapper가 나온다\n",
    "\n",
    "**해결책**: 함수의 원래 이름을 출력하고 싶다면 `functools` 모듈의 wraps를 데코레이터시켜야 한다! 쉽게 말해 데코레이터 안에 특정 모듈의 함수를 데코레이터 해주는 것과 같은 이치\n",
    "\n",
    "\n",
    "#### `@functools.wraps(func)`는 func 매개변수에 들어가는 함수의 원래 정보를 유지시켜준다. 디버깅 할 때 매우 유용하므로 데코레이터를 사용할때 이 모듈을 사용하면 좋다"
   ]
  },
  {
   "cell_type": "code",
   "execution_count": 72,
   "id": "c944a967",
   "metadata": {},
   "outputs": [],
   "source": [
    "import functools \n",
    "\n",
    "def mod_num(x):\n",
    "    \n",
    "    def real_decorator(func):\n",
    "        \n",
    "        ## functools.wraps에 func을 넣은 뒤 wrapper 함수 위에 지정한다\n",
    "        \n",
    "        @functools.wraps(func) \n",
    "        def wrapper(num1, num2):\n",
    "            result = func(num1, num2)\n",
    "            \n",
    "            if result % x == 0:\n",
    "                print(f\"{func.__name__}의 반환값은 {x}의 배수입니다.\")\n",
    "            else:\n",
    "                print(f\"{func.__name__}의 반환값은 {x}의 배수가 아닙니다.\")\n",
    "                \n",
    "            return result\n",
    "\n",
    "        return wrapper\n",
    "    \n",
    "    return real_decorator\n",
    "\n",
    "\n",
    "@mod_num(3)\n",
    "@mod_num(7)\n",
    "def do_add(a, b):\n",
    "    return a+b"
   ]
  },
  {
   "cell_type": "code",
   "execution_count": 74,
   "id": "f0537817",
   "metadata": {},
   "outputs": [
    {
     "name": "stdout",
     "output_type": "stream",
     "text": [
      "do_add의 반환값은 7의 배수가 아닙니다.\n",
      "do_add의 반환값은 3의 배수입니다.\n"
     ]
    },
    {
     "data": {
      "text/plain": [
       "9"
      ]
     },
     "execution_count": 74,
     "metadata": {},
     "output_type": "execute_result"
    }
   ],
   "source": [
    "do_add(3,6)"
   ]
  },
  {
   "cell_type": "markdown",
   "id": "87c340fe",
   "metadata": {},
   "source": [
    "기존에는 함수를 데코레이터 하거나 클래스 내의 메서드를 데코레이터 시킨 예시를 보았다. 다음은 함수가 아닌 클래스 자체를 데코레이터로 만드는 방법을 알아보자"
   ]
  },
  {
   "cell_type": "markdown",
   "id": "2e6363dc",
   "metadata": {},
   "source": [
    "### 클래스를 데코레이터로 만들기\n",
    "\n",
    "https://dojang.io/mod/page/view.php?id=2430\n",
    "\n",
    "클래스 자체를 데코레이터로 만들기 위해서는 `__init__` (초기화) 과 `__call__` (호출) 메서드를 구현해야한다. \n",
    "\n",
    "\n",
    "    __call__\n",
    ": 함수를 호출 하는 것처럼 클래스의 객체도 호출하게 만들어주는 메서드"
   ]
  },
  {
   "cell_type": "code",
   "execution_count": 147,
   "id": "d7f07962",
   "metadata": {},
   "outputs": [],
   "source": [
    "class Trace:\n",
    "    def __init__(self, func):\n",
    "        self.func = func\n",
    "        \n",
    "    def __call__(self):\n",
    "        \n",
    "        start = time.time()\n",
    "        \n",
    "        self.func()\n",
    "        \n",
    "        end = time.time()\n",
    "        \n",
    "        print(f\"{self.func.__name__}의 총 소요시간: {end-start}\")"
   ]
  },
  {
   "cell_type": "code",
   "execution_count": 148,
   "id": "f09e8123",
   "metadata": {},
   "outputs": [],
   "source": [
    "@Trace\n",
    "def hello():\n",
    "    print('hello')"
   ]
  },
  {
   "cell_type": "code",
   "execution_count": 149,
   "id": "16266122",
   "metadata": {},
   "outputs": [
    {
     "name": "stdout",
     "output_type": "stream",
     "text": [
      "hello\n",
      "hello의 총 소요시간: 5.125999450683594e-05\n"
     ]
    }
   ],
   "source": [
    "hello()\n",
    "\n",
    "## trace = Trace(hello)\n",
    "## trace()"
   ]
  },
  {
   "cell_type": "markdown",
   "id": "315c703a",
   "metadata": {},
   "source": [
    "1. 먼저 `__init__` 메서드에서 호출할 함수를 초깃값으로 받는데 이를 속성화 시킨다\n",
    "\n",
    "\n",
    "2. 인스턴스 호출에 필요한 `__call__` 메서드를 만든다. \n",
    "\n",
    "\n",
    "3. 호출할 함수 위에 @를 붙이고 데코레이터를 지정하면 된다. 위의 경우에는 Trace클래스를 데코레이터로 지정한다"
   ]
  },
  {
   "cell_type": "markdown",
   "id": "df77ead8",
   "metadata": {},
   "source": [
    "클래스 데코레이터에서 @를 지정하지 않고 데코레이터의 반환값을 호출하는 방식은 다음과 같다"
   ]
  },
  {
   "cell_type": "code",
   "execution_count": 150,
   "id": "2adb3e0d",
   "metadata": {},
   "outputs": [
    {
     "name": "stdout",
     "output_type": "stream",
     "text": [
      "hello\n",
      "hello의 총 소요시간: 5.91278076171875e-05\n"
     ]
    }
   ],
   "source": [
    "## 데코레이터를 지정해주지 않음\n",
    "def hello():\n",
    "    print('hello')\n",
    "\n",
    "trace = Trace(hello)\n",
    "trace()"
   ]
  },
  {
   "cell_type": "markdown",
   "id": "7a377d69",
   "metadata": {},
   "source": [
    "### 매개변수와 반환값을 처리하는 클래스 데코레이터 만들기\n",
    "\n",
    "https://dojang.io/mod/page/view.php?id=2431\n",
    "\n",
    "\n",
    "매개변수와 반환값을 처리하는 클래스 데코레이터를 만들 때는 `__call__` 메서드에 매개변수를 지정하고 `self.func`에 넣어서 호출한 뒤에 `return`값을 반환하면 됨"
   ]
  },
  {
   "cell_type": "code",
   "execution_count": null,
   "id": "fe28a40a",
   "metadata": {},
   "outputs": [],
   "source": [
    "class Trace:\n",
    "    def __init__(self, func):\n",
    "        self.func = func\n",
    "        \n",
    "    def __call__(self):\n",
    "        \n",
    "        start = time.time()\n",
    "        \n",
    "        self.func()\n",
    "        \n",
    "        end = time.time()\n",
    "        \n",
    "        print(f\"{self.func.__name__}의 총 소요시간: {end-start}\")"
   ]
  },
  {
   "cell_type": "code",
   "execution_count": 181,
   "id": "8b475812",
   "metadata": {},
   "outputs": [],
   "source": [
    "class Trace:\n",
    "    \n",
    "    def __init__(self, func):\n",
    "        self.func = func\n",
    "        \n",
    "    def __call__(self, *args):   ## 가변 인수를 사용함\n",
    "        \n",
    "        print(self.func.__name__)\n",
    "        print(args)\n",
    "        print(*args)\n",
    "        print(len(*args))\n",
    "        \n",
    "        start = time.time()\n",
    "        \n",
    "        result = self.func(*args)\n",
    "        \n",
    "        end = time.time()\n",
    "        \n",
    "        return result\n",
    "\n",
    "@Trace\n",
    "def hello(*args):    \n",
    "    return args"
   ]
  },
  {
   "cell_type": "code",
   "execution_count": 182,
   "id": "f2009a10",
   "metadata": {},
   "outputs": [
    {
     "name": "stdout",
     "output_type": "stream",
     "text": [
      "hello\n",
      "('world',)\n",
      "world\n",
      "5\n"
     ]
    },
    {
     "data": {
      "text/plain": [
       "('world',)"
      ]
     },
     "execution_count": 182,
     "metadata": {},
     "output_type": "execute_result"
    }
   ],
   "source": [
    "hello('world')"
   ]
  },
  {
   "cell_type": "code",
   "execution_count": 183,
   "id": "92c61c0a",
   "metadata": {},
   "outputs": [
    {
     "name": "stdout",
     "output_type": "stream",
     "text": [
      "hello\n",
      "('world',)\n",
      "world\n",
      "5\n"
     ]
    },
    {
     "data": {
      "text/plain": [
       "('world',)"
      ]
     },
     "execution_count": 183,
     "metadata": {},
     "output_type": "execute_result"
    }
   ],
   "source": [
    "def hello(*args):    \n",
    "    return args\n",
    "\n",
    "trace = Trace(hello)\n",
    "trace('world')"
   ]
  },
  {
   "cell_type": "markdown",
   "id": "993529d6",
   "metadata": {},
   "source": [
    "### 매개변수가 있는 클래스 데코레이터\n",
    "\n",
    "위의 2배수를 맞추는 `@mod_num(2)` 데코레이터 예시를 클래스 데코레이터로 만들어보자\n",
    "\n",
    "\n",
    "#### 여기서 중요한점은 wrapper의 매개변수 자리는 self가 들어가지 않는다는 것이다"
   ]
  },
  {
   "cell_type": "code",
   "execution_count": 215,
   "id": "a70c00e6",
   "metadata": {},
   "outputs": [],
   "source": [
    "class mod_num:\n",
    "    \n",
    "    def __init__(self, x):\n",
    "        self.x = x\n",
    "    \n",
    "    def __call__(self, func):\n",
    "        \n",
    "        def wrapper(*args): \n",
    "            \n",
    "            print(args)\n",
    "            print(*args), print()\n",
    "            \n",
    "            result = func(*args)\n",
    "\n",
    "            if result % self.x == 0:\n",
    "                print(f\"{func.__name__}의 반환값은 {self.x}의 배수입니다.\") \n",
    "            else:\n",
    "                print(f\"{func.__name__}의 반환값은 {self.x}의 배수가 아닙니다.\")\n",
    "                \n",
    "            return result \n",
    "        \n",
    "        return wrapper\n",
    "    \n",
    "@mod_num(2)\n",
    "def do_add(*args):\n",
    "    print(args)\n",
    "    print(*args), print()\n",
    "    \n",
    "    return sum(*args)"
   ]
  },
  {
   "cell_type": "code",
   "execution_count": 216,
   "id": "cb130527",
   "metadata": {},
   "outputs": [
    {
     "name": "stdout",
     "output_type": "stream",
     "text": [
      "([1, 2, 3],)\n",
      "[1, 2, 3]\n",
      "\n",
      "([1, 2, 3],)\n",
      "[1, 2, 3]\n",
      "\n",
      "do_add의 반환값은 2의 배수입니다.\n"
     ]
    },
    {
     "data": {
      "text/plain": [
       "6"
      ]
     },
     "execution_count": 216,
     "metadata": {},
     "output_type": "execute_result"
    }
   ],
   "source": [
    "do_add([1,2,3])"
   ]
  }
 ],
 "metadata": {
  "kernelspec": {
   "display_name": "Python 3 (ipykernel)",
   "language": "python",
   "name": "python3"
  },
  "language_info": {
   "codemirror_mode": {
    "name": "ipython",
    "version": 3
   },
   "file_extension": ".py",
   "mimetype": "text/x-python",
   "name": "python",
   "nbconvert_exporter": "python",
   "pygments_lexer": "ipython3",
   "version": "3.9.7"
  }
 },
 "nbformat": 4,
 "nbformat_minor": 5
}
