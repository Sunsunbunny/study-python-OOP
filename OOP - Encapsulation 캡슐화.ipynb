{
 "cells": [
  {
   "cell_type": "markdown",
   "id": "2de1178a",
   "metadata": {},
   "source": [
    "Summary\n",
    "\n",
    "* Encapsulation is the packing of data and methods into a class so that you can hide the information and restrict access from outside.\n",
    "\n",
    "* Prefix an attribute with a single underscore (_) TO MAKE IT PRIVATE by convention.\n",
    "\n",
    "* Prefix an attribute with double underscores (__) TO USE THE NAME MANGLING.\n"
   ]
  },
  {
   "cell_type": "markdown",
   "id": "a44debdc",
   "metadata": {},
   "source": [
    "### Encapsulation - 클래스의 캡슐화\n",
    "\n",
    ": To hide the internal state of the object from the outside (also known as **information hiding**)\n",
    "\n",
    "The idea of information hiding is if you have an attribute that isn't visible to the outside, you can control the access to its value to make sure your object is always has a valid state "
   ]
  },
  {
   "cell_type": "code",
   "execution_count": 1,
   "id": "df26d8e4",
   "metadata": {},
   "outputs": [],
   "source": [
    "class Counter:\n",
    "    def __init__(self):\n",
    "        self.current = 0\n",
    "\n",
    "    def increment(self):\n",
    "        self.current += 1\n",
    "\n",
    "    def value(self):\n",
    "        return self.current\n",
    "\n",
    "    def reset(self):\n",
    "        self.current = 0"
   ]
  },
  {
   "cell_type": "code",
   "execution_count": 2,
   "id": "6420b980",
   "metadata": {},
   "outputs": [
    {
     "name": "stdout",
     "output_type": "stream",
     "text": [
      "3\n"
     ]
    }
   ],
   "source": [
    "counter = Counter()\n",
    "counter.increment()\n",
    "counter.increment()\n",
    "counter.increment()\n",
    "\n",
    "print(counter.value())"
   ]
  },
  {
   "cell_type": "markdown",
   "id": "5b565303",
   "metadata": {},
   "source": [
    "However, you can still access the current attribute and change it to whatever you want from the outside of the class. See following:"
   ]
  },
  {
   "cell_type": "code",
   "execution_count": 3,
   "id": "2375f2b9",
   "metadata": {},
   "outputs": [
    {
     "name": "stdout",
     "output_type": "stream",
     "text": [
      "-999\n"
     ]
    }
   ],
   "source": [
    "counter.current = -999\n",
    "\n",
    "print(counter.value())"
   ]
  },
  {
   "cell_type": "markdown",
   "id": "e7418e59",
   "metadata": {},
   "source": [
    "This is where **private attribute** come into play. Private attribute can be only accssible from the methods of the class. Thus they cannot be accessible from outside of the class. By convention, you prefix it with a single underscore\n",
    "\n",
    "    _attribute\n",
    "    \n",
    "Python does not have a concept of private attributes. In other words, all attributes are accessible from the outside. By convention, a private attribute is defiend by pefixing an underscore `_`. This means `_attribute` should not be manipulated and may have a breaking change in the future\n",
    "\n",
    "\n",
    "(파이썬은 의도된 사용법을 지시하는 프로그래밍 관례를 따르며 프로그래머가 자발적으로 준수한다. `_attribute` 으로 시작하는 속성은 private으로 간주하는데 앞에서 언급한 것과 같이 이것은 프로그래밍 스타일일 뿐이다. 여전히 액세스하고 변경하는게 가능하다)"
   ]
  },
  {
   "cell_type": "code",
   "execution_count": 4,
   "id": "07f5c703",
   "metadata": {},
   "outputs": [],
   "source": [
    "class Counter:\n",
    "    def __init__(self):\n",
    "        self._current = 0\n",
    "\n",
    "    def increment(self):\n",
    "        self._current += 1\n",
    "\n",
    "    def value(self):\n",
    "        return self._current\n",
    "\n",
    "    def reset(self):\n",
    "        self._current = 0"
   ]
  },
  {
   "cell_type": "code",
   "execution_count": 5,
   "id": "8de8f02b",
   "metadata": {},
   "outputs": [
    {
     "name": "stdout",
     "output_type": "stream",
     "text": [
      "3\n"
     ]
    }
   ],
   "source": [
    "counter = Counter()\n",
    "counter.increment()\n",
    "counter.increment()\n",
    "counter.increment()\n",
    "\n",
    "print(counter.value())"
   ]
  },
  {
   "cell_type": "code",
   "execution_count": 6,
   "id": "db177e36",
   "metadata": {},
   "outputs": [
    {
     "name": "stdout",
     "output_type": "stream",
     "text": [
      "-999\n"
     ]
    }
   ],
   "source": [
    "counter._current = -999\n",
    "\n",
    "print(counter.value())"
   ]
  },
  {
   "cell_type": "markdown",
   "id": "8b00c947",
   "metadata": {},
   "source": [
    "### Name Mangling\n",
    "\n",
    "https://tibetsandfox.tistory.com/21"
   ]
  },
  {
   "cell_type": "markdown",
   "id": "63f3d7de",
   "metadata": {},
   "source": [
    "네임 맹글링: (mangle/짓이기다): 파이썬 변수/함수의 이름을 짓이겨서 다른 이름으로 바꿔버리는것을 뜻한다\n",
    "\n",
    "    _클래스이름__attribute\n",
    "\n",
    "By doing so, you cannot access the `__attribute` directly from the outside of a class like `instance.__attribute`\n",
    "\n",
    "\n",
    "However, you can still access it using the `instance._classname__attribute`:\n",
    "\n",
    "    instance._class__attribute = xyz\n",
    "        \n",
    "        \n",
    "#### 맹글링은 크게 2가지 상황에서 사용할 수 있다:\n",
    "1. 클래스의 속성값을 외부에서 접근하기 힘들게 할 때 (private화). 즉 클래스에서 공개하고 싶지 않은 속성이 있을 때\n",
    "\n",
    "2. 하위클래스가 상위 클래스의 속성을 오버라이딩 하는 것을 막을 때"
   ]
  },
  {
   "cell_type": "code",
   "execution_count": 1,
   "id": "74b5a575",
   "metadata": {},
   "outputs": [],
   "source": [
    "# 1.\n",
    "class Counter:\n",
    "    def __init__(self):\n",
    "        self.__current = 0     ##비공개 인스턴스 속성\n",
    "\n",
    "    def increment(self):\n",
    "        self.__current += 1\n",
    "\n",
    "    def value(self):\n",
    "        return self.__current  ##클래스 안에서만 접근 가능\n",
    "\n",
    "    def reset(self):\n",
    "        self.__current = 0"
   ]
  },
  {
   "cell_type": "markdown",
   "id": "ca46eb4e",
   "metadata": {},
   "source": [
    "Now if you attempt to access `__current` attribute, you will get an error:"
   ]
  },
  {
   "cell_type": "code",
   "execution_count": 2,
   "id": "c053133d",
   "metadata": {},
   "outputs": [
    {
     "ename": "AttributeError",
     "evalue": "'Counter' object has no attribute '__current'",
     "output_type": "error",
     "traceback": [
      "\u001b[0;31m---------------------------------------------------------------------------\u001b[0m",
      "\u001b[0;31mAttributeError\u001b[0m                            Traceback (most recent call last)",
      "Input \u001b[0;32mIn [2]\u001b[0m, in \u001b[0;36m<cell line: 2>\u001b[0;34m()\u001b[0m\n\u001b[1;32m      1\u001b[0m counter \u001b[38;5;241m=\u001b[39m Counter()\n\u001b[0;32m----> 2\u001b[0m \u001b[38;5;28mprint\u001b[39m(\u001b[43mcounter\u001b[49m\u001b[38;5;241;43m.\u001b[39;49m\u001b[43m__current\u001b[49m)\n",
      "\u001b[0;31mAttributeError\u001b[0m: 'Counter' object has no attribute '__current'"
     ]
    }
   ],
   "source": [
    "counter = Counter()\n",
    "print(counter.__current)      ##클래스 바깥에서는 접근하면 에러"
   ]
  },
  {
   "cell_type": "code",
   "execution_count": 3,
   "id": "64881d26",
   "metadata": {},
   "outputs": [
    {
     "name": "stdout",
     "output_type": "stream",
     "text": [
      "1\n"
     ]
    }
   ],
   "source": [
    "counter.increment()\n",
    "print(counter.value())"
   ]
  },
  {
   "cell_type": "markdown",
   "id": "23096d28",
   "metadata": {},
   "source": [
    "맹글링은 `인스턴스._클래스이름__속성명`의 형태로 이름이 바뀌는 것이고 이는 다만 외부의 접근을 조금 어렵게 할 뿐 기존 저장값을 완벽하게 보호해주는 것은 아니라는점을 참고하자"
   ]
  },
  {
   "cell_type": "code",
   "execution_count": 4,
   "id": "07934966",
   "metadata": {},
   "outputs": [],
   "source": [
    "counter._Counter__current = -999"
   ]
  },
  {
   "cell_type": "code",
   "execution_count": 5,
   "id": "adbc6664",
   "metadata": {},
   "outputs": [
    {
     "name": "stdout",
     "output_type": "stream",
     "text": [
      "-999\n"
     ]
    }
   ],
   "source": [
    "print(counter._Counter__current)"
   ]
  },
  {
   "cell_type": "code",
   "execution_count": 11,
   "id": "c22586ef",
   "metadata": {},
   "outputs": [
    {
     "name": "stdout",
     "output_type": "stream",
     "text": [
      "양팔두 23 벽 보기\n"
     ]
    }
   ],
   "source": [
    "#2.\n",
    "class TestClass:\n",
    "    def __init__(self):\n",
    "        self.name = \"왕춘삼\"\n",
    "        self.age = 30\n",
    "        self.hobby = \"인형놀이\"\n",
    "\n",
    "        \n",
    "class TestClass2(TestClass):\n",
    "    def __init__(self):\n",
    "        \n",
    "        super(TestClass, self).__init__()\n",
    "        \n",
    "        self.name = \"양팔두\"\n",
    "        self.age = 23\n",
    "        self.hobby = \"벽 보기\"\n",
    "\n",
    "man = TestClass2()\n",
    "print(man.name, man.age, man.hobby)"
   ]
  },
  {
   "cell_type": "markdown",
   "id": "70906c23",
   "metadata": {},
   "source": [
    "다음 예시는 `self.attr` 대신 `self.__attr`을 썼을 때이다"
   ]
  },
  {
   "cell_type": "code",
   "execution_count": 12,
   "id": "51aafef4",
   "metadata": {},
   "outputs": [],
   "source": [
    "class TestClass:\n",
    "    def __init__(self):\n",
    "        self.name = \"왕춘삼\"\n",
    "        self.age = 30\n",
    "        self.__hobby = \"인형놀이\"\n",
    "\n",
    "\n",
    "class TestClass2(TestClass):\n",
    "    def __init__(self):\n",
    "        \n",
    "        super().__init__()\n",
    "        \n",
    "        self.name = \"양팔두\"\n",
    "        self.age = 23\n",
    "        self.__hobby = \"벽 보기\"\n",
    "        \n",
    "man = TestClass2()"
   ]
  },
  {
   "cell_type": "code",
   "execution_count": 15,
   "id": "de155e76",
   "metadata": {},
   "outputs": [
    {
     "ename": "AttributeError",
     "evalue": "'TestClass2' object has no attribute '__hobby'",
     "output_type": "error",
     "traceback": [
      "\u001b[0;31m---------------------------------------------------------------------------\u001b[0m",
      "\u001b[0;31mAttributeError\u001b[0m                            Traceback (most recent call last)",
      "Input \u001b[0;32mIn [15]\u001b[0m, in \u001b[0;36m<cell line: 1>\u001b[0;34m()\u001b[0m\n\u001b[0;32m----> 1\u001b[0m \u001b[38;5;28mprint\u001b[39m(man\u001b[38;5;241m.\u001b[39mname, man\u001b[38;5;241m.\u001b[39mage, \u001b[43mman\u001b[49m\u001b[38;5;241;43m.\u001b[39;49m\u001b[43m__hobby\u001b[49m)\n",
      "\u001b[0;31mAttributeError\u001b[0m: 'TestClass2' object has no attribute '__hobby'"
     ]
    }
   ],
   "source": [
    "print(man.name, man.age, man.__hobby)"
   ]
  },
  {
   "cell_type": "code",
   "execution_count": 17,
   "id": "ea68409f",
   "metadata": {},
   "outputs": [
    {
     "name": "stdout",
     "output_type": "stream",
     "text": [
      "양팔두 23 벽 보기\n"
     ]
    }
   ],
   "source": [
    "print(man.name, man.age, man._TestClass2__hobby)"
   ]
  },
  {
   "cell_type": "code",
   "execution_count": null,
   "id": "7c357bb6",
   "metadata": {},
   "outputs": [],
   "source": []
  }
 ],
 "metadata": {
  "kernelspec": {
   "display_name": "Python 3 (ipykernel)",
   "language": "python",
   "name": "python3"
  },
  "language_info": {
   "codemirror_mode": {
    "name": "ipython",
    "version": 3
   },
   "file_extension": ".py",
   "mimetype": "text/x-python",
   "name": "python",
   "nbconvert_exporter": "python",
   "pygments_lexer": "ipython3",
   "version": "3.9.7"
  }
 },
 "nbformat": 4,
 "nbformat_minor": 5
}
