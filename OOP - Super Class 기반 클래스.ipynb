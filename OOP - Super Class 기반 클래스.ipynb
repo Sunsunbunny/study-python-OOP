{
 "cells": [
  {
   "cell_type": "markdown",
   "id": "d491db64",
   "metadata": {},
   "source": [
    "## 기반 클래스\n",
    "\n",
    "https://dojang.io/mod/page/view.php?id=2386\n",
    "\n",
    "Person 클래스를 상속받은 Student 클래스를 객체화 시킨다."
   ]
  },
  {
   "cell_type": "code",
   "execution_count": 2,
   "id": "185fa0c1",
   "metadata": {},
   "outputs": [],
   "source": [
    "class Person:\n",
    "    def __init__(self):\n",
    "        print('Person __init__')\n",
    "        self.hello = '안녕하세요'\n",
    "        \n",
    "        \n",
    "class Student(Person):\n",
    "    def __init__(self):\n",
    "        print('Student __init__')\n",
    "        self.school = '파이썬 학교'"
   ]
  },
  {
   "cell_type": "code",
   "execution_count": 3,
   "id": "714dde2f",
   "metadata": {},
   "outputs": [
    {
     "name": "stdout",
     "output_type": "stream",
     "text": [
      "Student __init__\n"
     ]
    }
   ],
   "source": [
    "james = Student()"
   ]
  },
  {
   "cell_type": "code",
   "execution_count": 4,
   "id": "dcf7e05b",
   "metadata": {},
   "outputs": [
    {
     "data": {
      "text/plain": [
       "'파이썬 학교'"
      ]
     },
     "execution_count": 4,
     "metadata": {},
     "output_type": "execute_result"
    }
   ],
   "source": [
    "james.school"
   ]
  },
  {
   "cell_type": "code",
   "execution_count": 5,
   "id": "fe9ad79b",
   "metadata": {},
   "outputs": [
    {
     "ename": "AttributeError",
     "evalue": "'Student' object has no attribute 'hello'",
     "output_type": "error",
     "traceback": [
      "\u001b[0;31m---------------------------------------------------------------------------\u001b[0m",
      "\u001b[0;31mAttributeError\u001b[0m                            Traceback (most recent call last)",
      "Input \u001b[0;32mIn [5]\u001b[0m, in \u001b[0;36m<cell line: 1>\u001b[0;34m()\u001b[0m\n\u001b[0;32m----> 1\u001b[0m \u001b[43mjames\u001b[49m\u001b[38;5;241;43m.\u001b[39;49m\u001b[43mhello\u001b[49m\n",
      "\u001b[0;31mAttributeError\u001b[0m: 'Student' object has no attribute 'hello'"
     ]
    }
   ],
   "source": [
    "james.hello"
   ]
  },
  {
   "cell_type": "markdown",
   "id": "6e525dee",
   "metadata": {},
   "source": [
    "우리는 Student 클래스가 Person 클래스를 상속받았기 때문에 당연히 Person클래스의 hello 속성이 동작할 것이라 예상했다."
   ]
  },
  {
   "cell_type": "markdown",
   "id": "0bdd7efe",
   "metadata": {},
   "source": [
    "### 에러가 난 이유\n",
    "\n",
    "부모 클래스인 Person의 생성자 메서드가 호출되지 않았기 때문이다. `james = Student()`에서 잘 보면 `Student __init__`만 출력됨을 확인 할 수 있다. \n",
    "\n",
    "**즉, 자식클래스를 객체화 시켰어도 부모클래스의 생성자가 호출되지 않으면 부모 인스턴스 속성도 만들어 지지 않는다**"
   ]
  },
  {
   "cell_type": "markdown",
   "id": "644c3288",
   "metadata": {},
   "source": [
    "### super()로 부모클래스 초기화하기\n",
    "\n",
    "\n",
    "    class 자식클래스(부모클래스):\n",
    "\n",
    "        def 메서드(self, arg):\n",
    "        \n",
    "            super().특정메서드(arg)\n",
    "            ## OR\n",
    "            super(자식클래스, self).특정메서드(arg)"
   ]
  },
  {
   "cell_type": "markdown",
   "id": "4382a02d",
   "metadata": {},
   "source": [
    "`super().__init__()` 와 `클래스이름.__init__(self)`와 동일하다\n",
    "\n",
    "\n",
    "`super().__init__()` 와 `super(하위클래스, self).__init__()`와 동일하다"
   ]
  },
  {
   "cell_type": "markdown",
   "id": "7ff5aefd",
   "metadata": {},
   "source": [
    "자식클래스의 메서드를 실행하면 자동 부모클래스의 생성자를 초기화시켜 속성이 만들어진다. 또한 `super()`는 클래스메서드에도 사용 가능하다\n",
    "\n",
    "\n",
    "\n",
    "    class 자식클래스(부모클래스):\n",
    "        \n",
    "        @classmethod\n",
    "        def 메서드(cls, arg):\n",
    "            super().특정메서드(arg)\n",
    "            ## OR\n",
    "            super(메서드, cls).특정메서드(arg)"
   ]
  },
  {
   "cell_type": "code",
   "execution_count": 7,
   "id": "a83041b2",
   "metadata": {},
   "outputs": [
    {
     "name": "stdout",
     "output_type": "stream",
     "text": [
      "Student __init__\n",
      "Person __init__\n"
     ]
    },
    {
     "data": {
      "text/plain": [
       "'안녕하세요'"
      ]
     },
     "execution_count": 7,
     "metadata": {},
     "output_type": "execute_result"
    }
   ],
   "source": [
    "class Person:\n",
    "    def __init__(self):\n",
    "        print('Person __init__')\n",
    "        self.hello = '안녕하세요'\n",
    "        \n",
    "        \n",
    "class Student(Person):\n",
    "    def __init__(self):\n",
    "        print('Student __init__')\n",
    "        super(Student, self).__init__()\n",
    "        self.school = '파이썬 학교'\n",
    "        \n",
    "james = Student()\n",
    "james.hello"
   ]
  },
  {
   "cell_type": "markdown",
   "id": "10e94ee4",
   "metadata": {},
   "source": [
    "### 기반 클래스를 초기화하지 않아도 되는 경우\n",
    "\n",
    "파이썬을 쓰다보면 종종 착각하는 것 중 하나가 자식클래스가 부모클래스의 생성자를 호출해야할 필요가 있을 때 무조건 `super()`를 써줘야 한다고 생각한다. \n",
    "\n",
    "하지만 자식클래스에 `__init__`메서드를 생략하고 객체화 시킬때 부모클래스의 생성자가 **자동으로 호출되기 때문에 super를 굳이 써줄 필요가 없다!**\n",
    "\n",
    "\n",
    "즉, 자식클래스에 생성자가 없다면 부모클래스의 생성자가 자동으로 호출된다"
   ]
  },
  {
   "cell_type": "code",
   "execution_count": 8,
   "id": "c88d1aa3",
   "metadata": {},
   "outputs": [],
   "source": [
    "class Person:\n",
    "    \n",
    "    def __init__(self):\n",
    "        print('Person __init__')\n",
    "        self.hello = '안녕핫요'\n",
    "        \n",
    "class Student(Person):\n",
    "    pass"
   ]
  },
  {
   "cell_type": "code",
   "execution_count": 9,
   "id": "f7d40d83",
   "metadata": {},
   "outputs": [
    {
     "name": "stdout",
     "output_type": "stream",
     "text": [
      "Person __init__\n"
     ]
    }
   ],
   "source": [
    "james = Student()"
   ]
  },
  {
   "cell_type": "code",
   "execution_count": 10,
   "id": "f6b4ef71",
   "metadata": {},
   "outputs": [
    {
     "data": {
      "text/plain": [
       "'안녕핫요'"
      ]
     },
     "execution_count": 10,
     "metadata": {},
     "output_type": "execute_result"
    }
   ],
   "source": [
    "james.hello"
   ]
  },
  {
   "cell_type": "markdown",
   "id": "e157a821",
   "metadata": {},
   "source": [
    "### super를 좀 더 명확하게 사용하기\n",
    "\n",
    "만약 상속할 부모클래스가 다른 클래스에서 상속받았을 시 (즉, 부모클래스의 조부모 클래스들이 존재할 때) 우리는 super를 좀 더 명확하게 사용해야할 필요가 있다.\n",
    "\n",
    "\n",
    "    class 조부모:\n",
    "        def __init__(self):\n",
    "            self.family = '조부모 입니다'\n",
    "\n",
    "    class 부모(조부모):\n",
    "        def __init__(self):\n",
    "            self.family = '부모 입니다'\n",
    "            \n",
    "    class 자식(부모):\n",
    "        def __init__(self):\n",
    "            self.family = '' "
   ]
  },
  {
   "cell_type": "markdown",
   "id": "4be67968",
   "metadata": {},
   "source": [
    "위의 예시에서 만약 자식클래스가 '부모 입니다' 속성이 아닌 '조부모 입니다' 속성을 상속 받고 싶을 때는 `super().__init__()` 보다는 `조부모.__init__(self)`으로 명확하게 써줘야 한다."
   ]
  },
  {
   "cell_type": "code",
   "execution_count": null,
   "id": "566cfed0",
   "metadata": {},
   "outputs": [],
   "source": []
  }
 ],
 "metadata": {
  "kernelspec": {
   "display_name": "Python 3 (ipykernel)",
   "language": "python",
   "name": "python3"
  },
  "language_info": {
   "codemirror_mode": {
    "name": "ipython",
    "version": 3
   },
   "file_extension": ".py",
   "mimetype": "text/x-python",
   "name": "python",
   "nbconvert_exporter": "python",
   "pygments_lexer": "ipython3",
   "version": "3.9.7"
  }
 },
 "nbformat": 4,
 "nbformat_minor": 5
}
