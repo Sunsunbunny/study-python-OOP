{
 "cells": [
  {
   "cell_type": "markdown",
   "id": "520c7041",
   "metadata": {},
   "source": [
    "### getter/setter property\n",
    "\n",
    "https://dojang.io/mod/page/view.php?id=2476\n",
    "\n",
    "클래스에서 메서드를 통해 속성 값을 가져오거나 저장하는 경우가 있다. 이때 값을 가져오는 메서드를 getter, 값을 저장하는 메서드를 setter라고 부른다\n",
    "\n",
    "\n",
    "* **getter**: 속성 값을 가져오는 메서드\n",
    "\n",
    "* **setter**: 속성 값을 저장하는 메서드"
   ]
  },
  {
   "cell_type": "code",
   "execution_count": 2,
   "id": "5c729308",
   "metadata": {},
   "outputs": [],
   "source": [
    "class Person:\n",
    "    \n",
    "    def __init__(self, __age=0):\n",
    "        \n",
    "        self.__age = __age\n",
    "        \n",
    "        \n",
    "    def get_age(self):      ##getter\n",
    "        return self.__age\n",
    "    \n",
    "    \n",
    "    def set_age(self, age): ##setter\n",
    "        \n",
    "        self.__age = age        "
   ]
  },
  {
   "cell_type": "code",
   "execution_count": 6,
   "id": "86867b7e",
   "metadata": {},
   "outputs": [],
   "source": [
    "james = Person()"
   ]
  },
  {
   "cell_type": "code",
   "execution_count": 7,
   "id": "c673f523",
   "metadata": {},
   "outputs": [],
   "source": [
    "james.set_age(20)"
   ]
  },
  {
   "cell_type": "code",
   "execution_count": 8,
   "id": "af30f6f9",
   "metadata": {},
   "outputs": [
    {
     "data": {
      "text/plain": [
       "20"
      ]
     },
     "execution_count": 8,
     "metadata": {},
     "output_type": "execute_result"
    }
   ],
   "source": [
    "james.get_age()"
   ]
  },
  {
   "cell_type": "markdown",
   "id": "8b9ece5e",
   "metadata": {},
   "source": [
    "파이썬에서는 `@property`를 사용하면 getter/setter를 간단하게 구현할 수 있다. \n",
    "\n",
    "1. 값을 가져오는 getter 메서드에는 **@property** 데코레이터를 붙이고 \n",
    "\n",
    "2. 값을 저장하는 setter 메서드에는 **@메서드이름.setter** 데코레이터를 붙인다\n",
    "\n",
    "3. 마지막으로 getter와 setter 두 메서드의 이름이 동일해야한다\n",
    "\n",
    "\n",
    "        @property            #getter 메서드\n",
    "        def 메서드이름\n",
    "        \n",
    "        @메서드이름.setter      #setter 메서드\n",
    "        def 메서드이름\n",
    "    \n",
    "    \n",
    "`@property` 와 `@메서드이름.setter` 여기서 중요한점은 해당 클래스의 메서드를 인스턴스 속성처럼 사용 할 수 있다. "
   ]
  },
  {
   "cell_type": "code",
   "execution_count": 18,
   "id": "28e7cc50",
   "metadata": {},
   "outputs": [],
   "source": [
    "class Person:\n",
    "    \n",
    "    def __init__(self):\n",
    "        self.__age = 0\n",
    "        \n",
    "    @property              ##getter\n",
    "    def age(self):         \n",
    "        return self.__age\n",
    "    \n",
    "    @age.setter            ##setter\n",
    "    def age(self, age):    \n",
    "        self.__age = age"
   ]
  },
  {
   "cell_type": "code",
   "execution_count": 19,
   "id": "e00f3130",
   "metadata": {},
   "outputs": [],
   "source": [
    "james = Person()"
   ]
  },
  {
   "cell_type": "code",
   "execution_count": 20,
   "id": "8f43a5af",
   "metadata": {},
   "outputs": [],
   "source": [
    "james.age = 20     ##인스턴스객체.인스턴스속성 형식으로 접근하여 저장  ##setter"
   ]
  },
  {
   "cell_type": "code",
   "execution_count": 17,
   "id": "1630a269",
   "metadata": {},
   "outputs": [
    {
     "name": "stdout",
     "output_type": "stream",
     "text": [
      "20\n"
     ]
    }
   ],
   "source": [
    "print(james.age)   ##인스턴스객체.인스턴스속성 형식으로 값을 가져옴   ##getter"
   ]
  }
 ],
 "metadata": {
  "kernelspec": {
   "display_name": "Python 3 (ipykernel)",
   "language": "python",
   "name": "python3"
  },
  "language_info": {
   "codemirror_mode": {
    "name": "ipython",
    "version": 3
   },
   "file_extension": ".py",
   "mimetype": "text/x-python",
   "name": "python",
   "nbconvert_exporter": "python",
   "pygments_lexer": "ipython3",
   "version": "3.9.7"
  }
 },
 "nbformat": 4,
 "nbformat_minor": 5
}
