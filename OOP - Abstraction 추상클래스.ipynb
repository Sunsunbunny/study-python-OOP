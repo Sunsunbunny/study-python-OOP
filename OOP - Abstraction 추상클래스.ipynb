{
 "cells": [
  {
   "cell_type": "markdown",
   "id": "421c4290",
   "metadata": {},
   "source": [
    "## Abstract classes \n",
    "\n",
    "* 추상화(abstraction)는 서브클래스들을 위한 blueprint의 개념이라고 보면 된다\n",
    "\n",
    "\n",
    "* 미구현 추상메소드를 한개 이상가지며 **서브클래스에 해당 추상메소드를 반드시 구현하도록 강제하는 클래스를 추상클래스라고 한다** (It allows you to create a set of methods that must be created within any child classes built from the abstract class)\n",
    "\n",
    "\n",
    "* **An abstract method 란 declaration을 하지만 implementation은 하지 않은 메서드를 지칭한다.** 이는 프로그램의 사용(use)과 구현(implementation)을 분리하는 개념이다 \n",
    "\n",
    "\n",
    "* 서브클래스는 추상메소드를 구현하지 않아도, import할 때까지 에러는 발생하지 않으나 객체를 생성할 시 에러가 발생한다\n",
    "\n",
    "\n",
    "\n",
    "추상클래스를 쓰는 이유는 다음과 같다.\n",
    "\n",
    "1. 서브클래스들을 위한 API (Application Program Interface)를 만들 때 유용 where a third party will provide implementations such as plugins \n",
    "\n",
    "2. 규모가 큰 팀 프로젝트를 진행할 때 유용하다 (**keeping all classes in one abstract class**)\n",
    "\n",
    "\n",
    "유저(user)는 클래스가 어떻게 구현되어 있는지 알 필요가 없다. 가령 이용자는 원의 넓이를 어떻게 구하는지 모르더라도 Circle.py를 만들고 메소드를 이용해 넓이를 구할 수 있다. 이처럼 클래스의 상세 구현(implementation)을 사용자로부터 숨기고 캡슐화 하는 것을 클래스 캡슐화 (class encapsulation)이라고 한다\n",
    "\n",
    "https://suwoni-codelab.com/python%20%EA%B8%B0%EB%B3%B8/2018/03/11/Python-Basic-class-abstract/\n",
    "\n",
    "\n",
    "\n",
    "\n",
    "\n",
    "다음은 추상클래스를 만들기 위한 방법이다:\n",
    "\n",
    "`import abc`: **A**bstract **B**ase **C**lass의 약자이며 파이썬 설치시에 기본적으로 포함된 모듈이다. "
   ]
  },
  {
   "cell_type": "code",
   "execution_count": 30,
   "id": "e2c85a41",
   "metadata": {},
   "outputs": [],
   "source": [
    "from abc import ABCMeta, abstractmethod\n",
    "#from abc import *"
   ]
  },
  {
   "cell_type": "markdown",
   "id": "a50386c3",
   "metadata": {},
   "source": [
    "다음 예시를 보자"
   ]
  },
  {
   "cell_type": "code",
   "execution_count": 31,
   "id": "f0010145",
   "metadata": {},
   "outputs": [],
   "source": [
    "class AbstractCountry(metaclass = ABCMeta):\n",
    "    # Class Values\n",
    "    name = '국가명'\n",
    "    population = '인구'\n",
    "    capital = '수도'\n",
    "    \n",
    "    def show(self):\n",
    "        print('국가 클래스 메서드입니다')\n",
    "        \n",
    "        \n",
    "class Korea(AbstractCountry):\n",
    "    \n",
    "    def __init__(self, name, population, capital):\n",
    "        self.name = name\n",
    "        self.population = population\n",
    "        self.capital = capital\n",
    "        \n",
    "    def show_name(self):\n",
    "        print('국가 이름: ', self.name)"
   ]
  },
  {
   "cell_type": "markdown",
   "id": "0e9461c2",
   "metadata": {},
   "source": [
    "* 아직 추상메소드를 작성하지 않음\n",
    "* 그렇지만 기본 클래스 기능은 동작한다 (추상메소드를 작성하지 않았기 때문에)\n",
    "* 생속한 객체도 생성됨"
   ]
  },
  {
   "cell_type": "code",
   "execution_count": 32,
   "id": "e7063632",
   "metadata": {},
   "outputs": [
    {
     "name": "stdout",
     "output_type": "stream",
     "text": [
      "국가 클래스 메서드입니다\n"
     ]
    }
   ],
   "source": [
    "a = AbstractCountry()\n",
    "a.show()"
   ]
  },
  {
   "cell_type": "code",
   "execution_count": 38,
   "id": "81b9b27c",
   "metadata": {},
   "outputs": [
    {
     "name": "stdout",
     "output_type": "stream",
     "text": [
      "국가 이름:  대한민국\n",
      "국가 클래스 메서드입니다\n"
     ]
    }
   ],
   "source": [
    "b = Korea('대한민국', 50000000, '서울')\n",
    "b.show_name()\n",
    "b.show()"
   ]
  },
  {
   "cell_type": "markdown",
   "id": "68b6e8cf",
   "metadata": {},
   "source": [
    "이제 AbstractCountry 클래스에 추상메소드를 추가해보자"
   ]
  },
  {
   "cell_type": "code",
   "execution_count": 1,
   "id": "357fee41",
   "metadata": {},
   "outputs": [],
   "source": [
    "from abc import ABCMeta, abstractmethod\n",
    "\n",
    "class AbstractCountry(metaclass = ABCMeta):\n",
    "    # Class Values\n",
    "    name = '국가명'\n",
    "    population = '인구'\n",
    "    capital = '수도'\n",
    "    \n",
    "    def show(self):\n",
    "        print('국가 클래스 메서드입니다')\n",
    "        \n",
    "    ########################+++#########################\n",
    "    @abstractmethod\n",
    "    def show_capital(self):\n",
    "        print('국가의 수도는?')\n",
    "    ########################+++#########################\n",
    "        \n",
    "class Korea(AbstractCountry):\n",
    "    \n",
    "    def __init__(self, name, population, capital):\n",
    "        self.name = name\n",
    "        self.population = population\n",
    "        self.capital = capital\n",
    "        \n",
    "    def show_name(self):\n",
    "        print('국가 이름: ', self.name)"
   ]
  },
  {
   "cell_type": "markdown",
   "id": "7a7d2584",
   "metadata": {},
   "source": [
    "객체 생성시 에러가 발생한다"
   ]
  },
  {
   "cell_type": "code",
   "execution_count": 53,
   "id": "32db5a5c",
   "metadata": {
    "scrolled": true
   },
   "outputs": [
    {
     "ename": "TypeError",
     "evalue": "Can't instantiate abstract class Korea with abstract method show_capital",
     "output_type": "error",
     "traceback": [
      "\u001b[0;31m---------------------------------------------------------------------------\u001b[0m",
      "\u001b[0;31mTypeError\u001b[0m                                 Traceback (most recent call last)",
      "Input \u001b[0;32mIn [53]\u001b[0m, in \u001b[0;36m<cell line: 1>\u001b[0;34m()\u001b[0m\n\u001b[0;32m----> 1\u001b[0m b \u001b[38;5;241m=\u001b[39m \u001b[43mKorea\u001b[49m\u001b[43m(\u001b[49m\u001b[38;5;124;43m'\u001b[39;49m\u001b[38;5;124;43m대한민국\u001b[39;49m\u001b[38;5;124;43m'\u001b[39;49m\u001b[43m,\u001b[49m\u001b[43m \u001b[49m\u001b[38;5;241;43m50000000\u001b[39;49m\u001b[43m,\u001b[49m\u001b[43m \u001b[49m\u001b[38;5;124;43m'\u001b[39;49m\u001b[38;5;124;43m서울\u001b[39;49m\u001b[38;5;124;43m'\u001b[39;49m\u001b[43m)\u001b[49m\n",
      "\u001b[0;31mTypeError\u001b[0m: Can't instantiate abstract class Korea with abstract method show_capital"
     ]
    }
   ],
   "source": [
    "b = Korea('대한민국', 50000000, '서울')"
   ]
  },
  {
   "cell_type": "markdown",
   "id": "d6536ce6",
   "metadata": {},
   "source": [
    "자 이제 Korea 클래스에서 상속받은 추상메소드를 구현해보자"
   ]
  },
  {
   "cell_type": "code",
   "execution_count": 4,
   "id": "50b66803",
   "metadata": {},
   "outputs": [],
   "source": [
    "class AbstractCountry(metaclass = ABCMeta):\n",
    "    # Class Values\n",
    "    name = '국가명'\n",
    "    population = '인구'\n",
    "    capital = '수도'\n",
    "    \n",
    "    def show(self):\n",
    "        print('국가 클래스 메서드입니다')\n",
    "        \n",
    "    @abstractmethod\n",
    "    def show_capital(self):\n",
    "        print('국가의 수도는?')\n",
    "        \n",
    "        \n",
    "class Korea(AbstractCountry):\n",
    "    \n",
    "    def __init__(self, name, population, capital):\n",
    "        self.name = name\n",
    "        self.population = population\n",
    "        self.capital = capital\n",
    "        \n",
    "    def show_name(self):\n",
    "        print('국가 이름: ', self.name)\n",
    "        \n",
    "    ########################+++#########################\n",
    "    def show_capital(self):\n",
    "        super().show_capital()\n",
    "        print(self.capital)\n",
    "    ########################+++#########################"
   ]
  },
  {
   "cell_type": "code",
   "execution_count": 5,
   "id": "7eabe088",
   "metadata": {
    "scrolled": true
   },
   "outputs": [
    {
     "name": "stdout",
     "output_type": "stream",
     "text": [
      "국가의 수도는?\n",
      "서울\n"
     ]
    }
   ],
   "source": [
    "b = Korea('대한민국', 50000000, '서울')\n",
    "b.show_capital()"
   ]
  },
  {
   "cell_type": "markdown",
   "id": "fd6d168c",
   "metadata": {},
   "source": [
    "위 `super()`는 상속받은 부모 클래스의 show_capital 메서드를 액세스"
   ]
  },
  {
   "cell_type": "code",
   "execution_count": null,
   "id": "b2a5a959",
   "metadata": {},
   "outputs": [],
   "source": []
  }
 ],
 "metadata": {
  "kernelspec": {
   "display_name": "Python 3 (ipykernel)",
   "language": "python",
   "name": "python3"
  },
  "language_info": {
   "codemirror_mode": {
    "name": "ipython",
    "version": 3
   },
   "file_extension": ".py",
   "mimetype": "text/x-python",
   "name": "python",
   "nbconvert_exporter": "python",
   "pygments_lexer": "ipython3",
   "version": "3.9.7"
  }
 },
 "nbformat": 4,
 "nbformat_minor": 5
}
