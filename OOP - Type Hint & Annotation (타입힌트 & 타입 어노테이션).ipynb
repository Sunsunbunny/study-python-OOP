{
 "cells": [
  {
   "cell_type": "markdown",
   "id": "24b1cd93",
   "metadata": {},
   "source": [
    "## 파이썬 타입 어노테이션/힌트\n",
    "\n",
    "https://www.daleseo.com/python-type-annotations/"
   ]
  },
  {
   "cell_type": "markdown",
   "id": "395c82a4",
   "metadata": {},
   "source": [
    "파이썬 3.5에 타입 어노테이션 (type annotation) 또는 타입힌트(type hint)가 추가되었는데 이를 알아보기 전에 먼저 파이썬이란 언어를 먼저 살펴보자"
   ]
  },
  {
   "cell_type": "markdown",
   "id": "ee01eca6",
   "metadata": {},
   "source": [
    "### 파이썬은 동적 프로그래밍 언어\n",
    "\n",
    "동적(dynamic) 프로그래밍 언어인 파이썬은 인터프리터(interpreter)가 코드를 실행하면서 타입(type)을 추론하는데 여기서 동적이란 단어에서 유추되듯 파이썬에서 변수의 타입은 고정되지 않기 때문에 자유도가 높은것을 알수 있다"
   ]
  },
  {
   "cell_type": "code",
   "execution_count": 2,
   "id": "44226524",
   "metadata": {},
   "outputs": [
    {
     "data": {
      "text/plain": [
       "int"
      ]
     },
     "execution_count": 2,
     "metadata": {},
     "output_type": "execute_result"
    }
   ],
   "source": [
    "num = 1\n",
    "type(num)"
   ]
  },
  {
   "cell_type": "code",
   "execution_count": 3,
   "id": "e244db26",
   "metadata": {},
   "outputs": [
    {
     "data": {
      "text/plain": [
       "str"
      ]
     },
     "execution_count": 3,
     "metadata": {},
     "output_type": "execute_result"
    }
   ],
   "source": [
    "num = '1'\n",
    "type(num)"
   ]
  },
  {
   "cell_type": "markdown",
   "id": "f5f702a3",
   "metadata": {},
   "source": [
    "위 코드에서 num 변수가 int에서 str으로 바뀌는게 동적 언어에서는 가능하지만 자바와 같은 정적(static) 프로그래밍 언어에서는 상상도 하기 힘든 일이며 이런 코드는 컴파일(compile)조차 되지 않는다"
   ]
  },
  {
   "cell_type": "code",
   "execution_count": null,
   "id": "35ce9982",
   "metadata": {},
   "outputs": [],
   "source": [
    "/* java */\n",
    "\n",
    "int num = 1;\n",
    "num = \"1\";    // compile error!"
   ]
  },
  {
   "cell_type": "markdown",
   "id": "45773e9f",
   "metadata": {},
   "source": [
    "이런 유연한 파이썬의 타입 처리는 코드를 만들때 명시적으로 표시할 필요가 없기 때문에 다른 언어에 비해 매우 간단하게 코드를 작성할 수 있는 이유이다."
   ]
  },
  {
   "cell_type": "markdown",
   "id": "9bc4b9d2",
   "metadata": {},
   "source": [
    "이런 특징으로 인해 파이썬으로 일회성 스크립트나 소규모 애플리케이션을 개발할 때 큰 장점으로 작용하지만 일단 개발 규모가 커지게 되면 이런 파이썬의 dynamic함이 치명적인 오류로 이어질 확률도 높아지며 개발의 안정성에도 여러 위험 요소가 된다. \n",
    "\n",
    "따라서 중규모 이상의 파이썬 프로젝트에서는 *type hinting* 이라는 프로세스를 도입하여 개발을 이어나간다. 기존 3.5버전 이하에서는 타입을 표시하려면 주석처리 (comment)이외에는 방법이 없었다. 하지만 주석처리는 수만가지 코드를 협업해서 써내려가는 개발자에게는 정해진 표준이 없었기에 완벽한 대안이 아니었다."
   ]
  },
  {
   "cell_type": "markdown",
   "id": "7e91e822",
   "metadata": {},
   "source": [
    "## Type Annotation\n",
    "\n",
    "반면 파이썬 3.5버전을 이후로 타입 힌팅에서 **타입 어노테이션(Type Annotation)**이라는 새로운 방법으로 파이썬 코드의 타입 표시를 표준화 시켰다\n",
    "\n",
    "* 파이썬 코드를 작성할 때 타입(type)에 대한 메타정보를 제공. 코드 편집기 (IDE)나 린터(linter)에서도 해석할 수 있도록 고안되었으며, 코드 자동 완성이나 정적 타입 체킹(static type checker)에도 활용되고 있다.\n",
    "\n",
    "\n",
    "* 내가 작성한 코드를 다른 개발자가 읽기 수월하게 해준다\n",
    "\n",
    "\n",
    "* **주의 사항은 언어 레벨에서 실질적으로 어떠한 제약 사항도 강요되지 않는다. 다시 말해 변수나 함수에 추가된 타입 어노테이션이 부정확하다고 해서 경고메시지나 오류가 발생하지 않는다!**"
   ]
  },
  {
   "cell_type": "markdown",
   "id": "1ce224ef",
   "metadata": {},
   "source": [
    "### 변수타입 어노테이션\n",
    "\n",
    "변수 이름 뒤에 콜론(`:`) 후 한칸 띄워서 타입을 명시해준다"
   ]
  },
  {
   "cell_type": "code",
   "execution_count": 7,
   "id": "d620e963",
   "metadata": {},
   "outputs": [],
   "source": [
    "name: str = 'Jane Doe'\n",
    "age: int = 25\n",
    "email: list = ['janedoe@email.com']\n",
    "address: dict = {\"address\": \"098 Brooks Suit\",\n",
    "                \"city\": \"Brookyln\",\n",
    "                \"state\": \"NY\",\n",
    "                \"zip code\": \"12345\"}"
   ]
  },
  {
   "cell_type": "markdown",
   "id": "30a52485",
   "metadata": {},
   "source": [
    "### 함수 타입 어노테이션\n",
    "\n",
    "함수 타입에 힌팅을 적용할 때는 **매개변수타입(parameter type)** 과 **반환타입(return type)** 이렇게 두 곳에 추가가 가능하다\n",
    "\n",
    "* 매개변수 타입에 어노테이션을 추가할 때는 변수타입 어노테이션과 동일한 문법을 사용한다.\n",
    "\n",
    "* 반환값에 타입을 추가할 떄는 화살표 (`->`)를 사용한다."
   ]
  },
  {
   "cell_type": "markdown",
   "id": "dbcf8832",
   "metadata": {},
   "source": [
    "    def 함수명(매개변수1: 인자타입, 매개변수2: 인자타입 = 기본값) -> 반환타입:\n",
    "        ...\n",
    "        \n",
    "        \n",
    "        \n",
    "파이썬의 관행에 따라 콜론 뒤에만 한칸만 띄우고, 화살표는 앞뒤로 한 칸을 띄운다."
   ]
  },
  {
   "cell_type": "code",
   "execution_count": 8,
   "id": "888a9e9d",
   "metadata": {},
   "outputs": [],
   "source": [
    "def stringify(num: int) -> str:\n",
    "    \n",
    "    return str(num)"
   ]
  },
  {
   "cell_type": "code",
   "execution_count": 9,
   "id": "15ee0ce1",
   "metadata": {},
   "outputs": [],
   "source": [
    "def plus(num1: int, num2: float = 3.5) -> float:\n",
    "    \n",
    "    return num1 + num2"
   ]
  },
  {
   "cell_type": "code",
   "execution_count": 16,
   "id": "30c63496",
   "metadata": {},
   "outputs": [],
   "source": [
    "def repeat(msg: str, times: int = 2) -> list:\n",
    "    \n",
    "    return [msg] * times"
   ]
  },
  {
   "cell_type": "code",
   "execution_count": 13,
   "id": "14ff2963",
   "metadata": {},
   "outputs": [],
   "source": [
    "def greet(name: str) -> None:\n",
    "    \n",
    "    return 'Hi! '+ str(name)"
   ]
  },
  {
   "cell_type": "markdown",
   "id": "58fb7720",
   "metadata": {},
   "source": [
    "위 greet 함수에서 리턴값은 문자열이지만 어노테이션 반환값을 `None`으로 명시해줬다. 타입 어노테이션이 부정확하지만 코드는 문제없이 돌아간다"
   ]
  },
  {
   "cell_type": "markdown",
   "id": "4f109153",
   "metadata": {},
   "source": [
    "### typing 모듈\n",
    "\n",
    "파이썬 내장타입으로 좀더 복잡한 타입 어노테이션이 필요로 할 때는 Python built-in 모듈인 typing 모듈을 쓸 수 있다"
   ]
  },
  {
   "cell_type": "code",
   "execution_count": 19,
   "id": "f3225734",
   "metadata": {},
   "outputs": [],
   "source": [
    "from typing import List, Set, Dict, Tuple"
   ]
  },
  {
   "cell_type": "code",
   "execution_count": 20,
   "id": "5b859ae5",
   "metadata": {},
   "outputs": [],
   "source": [
    "num: List[int] = [1]\n",
    "    \n",
    "nums: Set[int] = {6, 7}\n",
    "    \n",
    "eye_vision: Dict[str, float] = {'left eye': 1.0, \n",
    "                               'right eye': 0.9}\n",
    "    \n",
    "user: Tuple[str, int, List[float]] = ('John Doe', 25, [1.0, 0.9])"
   ]
  },
  {
   "cell_type": "markdown",
   "id": "2521a599",
   "metadata": {},
   "source": [
    "### User-Defined Type Hinting\n",
    "\n",
    "내장 타입 뿐만 아니라 사용자 정의 클래스에 대한 타입 어노테이션도 동일한 방법으로 추가 가능하다"
   ]
  },
  {
   "cell_type": "code",
   "execution_count": null,
   "id": "4861fcab",
   "metadata": {},
   "outputs": [],
   "source": [
    "class User:\n",
    "    ...\n",
    "\n",
    "\n",
    "def find_user(user: User) -> User:\n",
    "    ...\n",
    "\n",
    "    \n",
    "def create_user(id: str) -> User:\n",
    "    ..."
   ]
  },
  {
   "cell_type": "markdown",
   "id": "521a8494",
   "metadata": {},
   "source": [
    "### 타입 어노테이션 검사\n",
    "\n",
    "현재 작성한 타입 어노테이션을 검사하고 싶을 때는 `__annotations__` built-in 객체를 사용하면 된다"
   ]
  },
  {
   "cell_type": "code",
   "execution_count": 23,
   "id": "8be42e40",
   "metadata": {},
   "outputs": [
    {
     "data": {
      "text/plain": [
       "{'name': str,\n",
       " 'age': int,\n",
       " 'email': list,\n",
       " 'address': dict,\n",
       " 'num': typing.List[int],\n",
       " 'nums': typing.Set[int],\n",
       " 'eye_vision': typing.Dict[str, float],\n",
       " 'user': typing.Tuple[str, int, typing.List[float]]}"
      ]
     },
     "execution_count": 23,
     "metadata": {},
     "output_type": "execute_result"
    }
   ],
   "source": [
    "__annotations__"
   ]
  },
  {
   "cell_type": "code",
   "execution_count": null,
   "id": "c960b1e3",
   "metadata": {},
   "outputs": [],
   "source": []
  }
 ],
 "metadata": {
  "kernelspec": {
   "display_name": "Python 3 (ipykernel)",
   "language": "python",
   "name": "python3"
  },
  "language_info": {
   "codemirror_mode": {
    "name": "ipython",
    "version": 3
   },
   "file_extension": ".py",
   "mimetype": "text/x-python",
   "name": "python",
   "nbconvert_exporter": "python",
   "pygments_lexer": "ipython3",
   "version": "3.9.7"
  }
 },
 "nbformat": 4,
 "nbformat_minor": 5
}
