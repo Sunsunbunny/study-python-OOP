{
 "cells": [
  {
   "cell_type": "markdown",
   "id": "ba8899d2",
   "metadata": {},
   "source": [
    "각 메서드별 차이를 보기전에 인스턴스 속성과 클래스 속성의 차이를 먼저 살펴보자"
   ]
  },
  {
   "cell_type": "markdown",
   "id": "8f541998",
   "metadata": {},
   "source": [
    "* **인스턴스 속성**: 인스턴스 변수라고도 하며 클래스를 정의할 때 '메서드 안에서' 사용되는 속성 (`__init__`만들어진 모든 속성은 인스턴스 속성)\n",
    "    \n",
    "        def __init__(self, xxx):\n",
    "            self.xxx = xxx\n",
    "            \n",
    "    * 각 인스턴스 객체별로 독립되어 있으며 **인스턴스 속성을 공유하지 않기에** 각 인스턴스가 값을 따로 저장해야 할 때 사용\n",
    "    * 클래스 내부에서 `self.인스턴스속성`으로 액세스\n",
    "    * 클래스 외부에서 `객체명.인스턴스속성`으로 액세스"
   ]
  },
  {
   "cell_type": "markdown",
   "id": "211bf08b",
   "metadata": {},
   "source": [
    "* **클래스 속성**: 클래스 변수라고도 하며 클래스를 정의할 때 '메서드 밖에' 존재하는 variable이다\n",
    "\n",
    "        class 클래스이름:\n",
    "            클래스속성 = 값\n",
    "\n",
    "    * 해당 클래스를 사용하는 **모든 인스턴스에 공용으로 사용되는 변수이기에** 인스턴스 전체가 사용해야 하는 값을 저장할 때 사용\n",
    "    * 클래스 내부/외부에서 `클래스이름.클래스속성`으로 액세스\n",
    "    \n",
    "    \n",
    "다음 예시는 클래스 속성의 예를 잘 나타냈다"
   ]
  },
  {
   "cell_type": "code",
   "execution_count": 48,
   "id": "3ec6135b",
   "metadata": {},
   "outputs": [],
   "source": [
    "class Person:\n",
    "    bag = []\n",
    "    \n",
    "    def put_bag(self, stuff):\n",
    "        Person.bag.append(stuff)"
   ]
  },
  {
   "cell_type": "code",
   "execution_count": 49,
   "id": "27861da9",
   "metadata": {},
   "outputs": [
    {
     "name": "stdout",
     "output_type": "stream",
     "text": [
      "['책', '열쇠']\n",
      "['책', '열쇠']\n"
     ]
    }
   ],
   "source": [
    "james = Person()\n",
    "maria = Person()\n",
    "\n",
    "james.put_bag('책')\n",
    "maria.put_bag('열쇠')\n",
    "\n",
    "print(james.bag)\n",
    "print(maria.bag)"
   ]
  },
  {
   "cell_type": "markdown",
   "id": "13730038",
   "metadata": {},
   "source": [
    "james.bag 과 maria.bag을 출력해보면 넣었던 물건이 합쳐져서 나온다. 즉, 클래스 속성은 모든 인스턴스에서 공유한다.\n",
    "\n",
    "그렇다면 가방을 여러 사람이 공유하지 않게 하려면 어떻게 해야할까? 그냥 bag을 인스턴스 속성으로 만들면 끝"
   ]
  },
  {
   "cell_type": "code",
   "execution_count": 53,
   "id": "2ffbe478",
   "metadata": {},
   "outputs": [
    {
     "name": "stdout",
     "output_type": "stream",
     "text": [
      "['책']\n",
      "['열쇠']\n"
     ]
    }
   ],
   "source": [
    "class Person:\n",
    "    \n",
    "    def __init__(self):\n",
    "        self.bag = []\n",
    "        \n",
    "    def put_bag(self, stuff):\n",
    "        self.bag.append(stuff)\n",
    "        \n",
    "james = Person()\n",
    "maria = Person()\n",
    "\n",
    "james.put_bag('책')\n",
    "maria.put_bag('열쇠')\n",
    "\n",
    "print(james.bag)\n",
    "print(maria.bag)"
   ]
  },
  {
   "cell_type": "markdown",
   "id": "d1bcd703",
   "metadata": {},
   "source": [
    "다음은 인스턴스를 만들지 않고 클래스 자체로 호출하는 스태틱메서드와 클래스메서드를 알아보자"
   ]
  },
  {
   "cell_type": "markdown",
   "id": "1b86daf7",
   "metadata": {},
   "source": [
    "https://www.fun-coding.org/PL&OOP1-7.html\n",
    "\n",
    "### 인스턴스 메서드\n",
    "\n",
    "* **instance method**: `self.*`\n",
    "    * 해당 객체 안에서 호출 `self.인스턴스메서드()` 혹은 `클래스이름.인스턴스메서드(self)` \n",
    "    * 객체 속성에 접근 가능\n",
    "    \n",
    "    \n",
    "\n",
    "### 클래스 메서드\n",
    "\n",
    "* **class method**: 해당 클래스 안에서 호출 (객체에서 호출되지 않고, 직접 클래스 자체에서 호출)\n",
    "\n",
    "    * **객체 속성에 접근 불가 (self 매개변수를 가질 수 없음). 클래스 속성(class attr) 값에 접근 가능하며 `cls.클래스속성`으로 액세스 가능 (매개변수는 `cls`)**\n",
    "    * `클래스이름.클래스메서드()` 또는 `객체이름.클래스메서드()`으로 호출 가능\n",
    "    * 메서드 앞에 `@classmethod` 데코레이터를 써줌\n",
    "    \n",
    "### 스태틱 메서드\n",
    "\n",
    "* **static method**: 해당 객체와 독립적인 메서드\n",
    "\n",
    "    * **객체 속성에 접근 불가 (self 매개변수를 가질 수 없음). 단, 클래스 속성은 접근 가능**\n",
    "    * `클래스이름.정적메서드()` 또는 `객체이름.정적메서드()`으로 호출 가능\n",
    "    * 메서드 앞에 `@staticmethod` 데코레이터를 써줌"
   ]
  },
  {
   "cell_type": "code",
   "execution_count": 1,
   "id": "a4c7f2b8",
   "metadata": {},
   "outputs": [
    {
     "data": {
      "text/plain": [
       "'B'"
      ]
     },
     "execution_count": 1,
     "metadata": {},
     "output_type": "execute_result"
    }
   ],
   "source": [
    "class A:\n",
    "    \n",
    "    b = 'B'\n",
    "    \n",
    "    @staticmethod\n",
    "    def stat():\n",
    "        return A.b\n",
    "    \n",
    "c = A()\n",
    "c.stat()"
   ]
  },
  {
   "cell_type": "code",
   "execution_count": 44,
   "id": "893966b0",
   "metadata": {},
   "outputs": [],
   "source": [
    "# classmethod 예시\n",
    "\n",
    "class Figure:\n",
    "    \n",
    "    ##클래스 속성\n",
    "    count = 0 \n",
    "    \n",
    "    def __init__(self):\n",
    "        ##self.* : 인스턴스변수\n",
    "    \n",
    "        ##클래스 속성 접근 예\n",
    "        Figure.count += 1\n",
    "        \n",
    "    \n",
    "    @classmethod\n",
    "    def print_count(cls):\n",
    "        return cls.count        "
   ]
  },
  {
   "cell_type": "code",
   "execution_count": 45,
   "id": "82fd4bf6",
   "metadata": {},
   "outputs": [
    {
     "data": {
      "text/plain": [
       "0"
      ]
     },
     "execution_count": 45,
     "metadata": {},
     "output_type": "execute_result"
    }
   ],
   "source": [
    "Figure.count"
   ]
  },
  {
   "cell_type": "code",
   "execution_count": 46,
   "id": "7e676cc8",
   "metadata": {},
   "outputs": [
    {
     "data": {
      "text/plain": [
       "1"
      ]
     },
     "execution_count": 46,
     "metadata": {},
     "output_type": "execute_result"
    }
   ],
   "source": [
    "figure1 = Figure()\n",
    "Figure.print_count()"
   ]
  },
  {
   "cell_type": "code",
   "execution_count": 47,
   "id": "0a3922f6",
   "metadata": {},
   "outputs": [
    {
     "data": {
      "text/plain": [
       "2"
      ]
     },
     "execution_count": 47,
     "metadata": {},
     "output_type": "execute_result"
    }
   ],
   "source": [
    "figure2 = Figure()\n",
    "Figure.print_count()"
   ]
  },
  {
   "cell_type": "code",
   "execution_count": 26,
   "id": "faf24267",
   "metadata": {},
   "outputs": [],
   "source": [
    "# staticmethod 예시\n",
    "class Figure:\n",
    "    \n",
    "    def __init__(self, width, height):\n",
    "        self.width = width\n",
    "        self.height = height\n",
    "        \n",
    "    def calc_area(self):\n",
    "        return '넓이는 ' + str(self.width * self.height) + ' 입니다'\n",
    "    \n",
    "    \n",
    "    @staticmethod\n",
    "    def is_square(r_width, r_height):\n",
    "        if r_width == r_height:\n",
    "            print(\"정사각형이 될 수 '있는' 너비/높이 입니다\")\n",
    "        else:\n",
    "            print(\"정사각형이 될 수 '없는' 너비/높이 입니다\")"
   ]
  },
  {
   "cell_type": "code",
   "execution_count": 27,
   "id": "3f6e1ac1",
   "metadata": {},
   "outputs": [
    {
     "data": {
      "text/plain": [
       "'넓이는 6 입니다'"
      ]
     },
     "execution_count": 27,
     "metadata": {},
     "output_type": "execute_result"
    }
   ],
   "source": [
    "figure1 = Figure(2, 3)\n",
    "figure1.calc_area()"
   ]
  },
  {
   "cell_type": "code",
   "execution_count": 28,
   "id": "35808050",
   "metadata": {},
   "outputs": [
    {
     "name": "stdout",
     "output_type": "stream",
     "text": [
      "정사각형이 될 수 '있는' 너비/높이 입니다\n"
     ]
    }
   ],
   "source": [
    "Figure.is_square(3,3)"
   ]
  },
  {
   "cell_type": "code",
   "execution_count": 29,
   "id": "d4b94913",
   "metadata": {},
   "outputs": [
    {
     "name": "stdout",
     "output_type": "stream",
     "text": [
      "정사각형이 될 수 '없는' 너비/높이 입니다\n"
     ]
    }
   ],
   "source": [
    "figure1.is_square(3,4)"
   ]
  },
  {
   "cell_type": "markdown",
   "id": "805137ae",
   "metadata": {},
   "source": [
    "아래 예시는 정적메서드가 인스턴스 속성은 접근 불가능하지만 클래스 속성은 접근 가능함을 표현"
   ]
  },
  {
   "cell_type": "code",
   "execution_count": 40,
   "id": "9a4a4b0f",
   "metadata": {},
   "outputs": [],
   "source": [
    "class Figure:\n",
    "    ##클래스 속성\n",
    "    count = 0 \n",
    "\n",
    "    def __init__(self, width, height):\n",
    "        \n",
    "        ##self.*: 인스턴스 속성\n",
    "        self.width = width\n",
    "        self.height = height\n",
    "        \n",
    "        ##클래스 속성 접근 예\n",
    "        Figure.count += 1\n",
    "        \n",
    "        \n",
    "    ##정적메서드는 클래스 속성은 접근 가능\n",
    "    @staticmethod\n",
    "    def print_count():\n",
    "        print(Figure.count)\n",
    "        \n",
    "        \n",
    "    ##(에러!) 정적메서드는 인스턴스 속성은 접근 불가\n",
    "    @staticmethod\n",
    "    def print_width():\n",
    "        print(self.width)"
   ]
  },
  {
   "cell_type": "code",
   "execution_count": 41,
   "id": "817841b4",
   "metadata": {},
   "outputs": [
    {
     "name": "stdout",
     "output_type": "stream",
     "text": [
      "0\n",
      "1\n"
     ]
    }
   ],
   "source": [
    "print(Figure.count)\n",
    "\n",
    "figure1 = Figure(1, 2)\n",
    "print(Figure.count)"
   ]
  },
  {
   "cell_type": "code",
   "execution_count": 42,
   "id": "e5146357",
   "metadata": {},
   "outputs": [
    {
     "name": "stdout",
     "output_type": "stream",
     "text": [
      "1\n"
     ]
    }
   ],
   "source": [
    "figure1.print_count()"
   ]
  },
  {
   "cell_type": "code",
   "execution_count": 43,
   "id": "7fb1bb35",
   "metadata": {
    "scrolled": true
   },
   "outputs": [
    {
     "ename": "NameError",
     "evalue": "name 'self' is not defined",
     "output_type": "error",
     "traceback": [
      "\u001b[0;31m---------------------------------------------------------------------------\u001b[0m",
      "\u001b[0;31mNameError\u001b[0m                                 Traceback (most recent call last)",
      "Input \u001b[0;32mIn [43]\u001b[0m, in \u001b[0;36m<cell line: 1>\u001b[0;34m()\u001b[0m\n\u001b[0;32m----> 1\u001b[0m \u001b[43mfigure1\u001b[49m\u001b[38;5;241;43m.\u001b[39;49m\u001b[43mprint_width\u001b[49m\u001b[43m(\u001b[49m\u001b[43m)\u001b[49m\n",
      "Input \u001b[0;32mIn [40]\u001b[0m, in \u001b[0;36mFigure.print_width\u001b[0;34m()\u001b[0m\n\u001b[1;32m     22\u001b[0m \u001b[38;5;129m@staticmethod\u001b[39m\n\u001b[1;32m     23\u001b[0m \u001b[38;5;28;01mdef\u001b[39;00m \u001b[38;5;21mprint_width\u001b[39m():\n\u001b[0;32m---> 24\u001b[0m     \u001b[38;5;28mprint\u001b[39m(\u001b[38;5;28;43mself\u001b[39;49m\u001b[38;5;241m.\u001b[39mwidth)\n",
      "\u001b[0;31mNameError\u001b[0m: name 'self' is not defined"
     ]
    }
   ],
   "source": [
    "figure1.print_width()"
   ]
  }
 ],
 "metadata": {
  "kernelspec": {
   "display_name": "Python 3 (ipykernel)",
   "language": "python",
   "name": "python3"
  },
  "language_info": {
   "codemirror_mode": {
    "name": "ipython",
    "version": 3
   },
   "file_extension": ".py",
   "mimetype": "text/x-python",
   "name": "python",
   "nbconvert_exporter": "python",
   "pygments_lexer": "ipython3",
   "version": "3.9.7"
  }
 },
 "nbformat": 4,
 "nbformat_minor": 5
}
